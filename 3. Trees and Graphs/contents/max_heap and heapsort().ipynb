{
 "cells": [
  {
   "cell_type": "code",
   "execution_count": 1,
   "metadata": {},
   "outputs": [
    {
     "name": "stdout",
     "output_type": "stream",
     "text": [
      "Hello World!\n"
     ]
    }
   ],
   "source": [
    "print(\"Hello World!\")"
   ]
  },
  {
   "cell_type": "markdown",
   "metadata": {},
   "source": [
    "# Max Heaps"
   ]
  },
  {
   "cell_type": "markdown",
   "metadata": {},
   "source": [
    "## 1. The data Structure - MaxHeap"
   ]
  },
  {
   "cell_type": "code",
   "execution_count": 3,
   "metadata": {},
   "outputs": [],
   "source": [
    "class MaxHeap:\n",
    "    pass"
   ]
  },
  {
   "cell_type": "code",
   "execution_count": null,
   "metadata": {},
   "outputs": [],
   "source": []
  },
  {
   "cell_type": "markdown",
   "metadata": {},
   "source": [
    "## 2. Algorithmic implementation -  HeapSort"
   ]
  },
  {
   "cell_type": "code",
   "execution_count": 6,
   "metadata": {},
   "outputs": [
    {
     "name": "stdout",
     "output_type": "stream",
     "text": [
      "3\n",
      "Variable value after updating the list:  3\n",
      "Variable value after reassigning the list value to it:  Hi there\n"
     ]
    }
   ],
   "source": [
    "my_list = [1, 2, 3, 4]\n",
    "my_variable = my_list[2]\n",
    "print(my_variable)  # Output: 3\n",
    "\n",
    "my_list[2] = \"Hi there\"\n",
    "print(\"Variable value after updating the list: \", my_variable)\n",
    "my_variable = my_list[2]\n",
    "print(\"Variable value after reassigning the list value to it: \", my_variable)  # Output: Hi there"
   ]
  },
  {
   "cell_type": "code",
   "execution_count": 1,
   "metadata": {},
   "outputs": [
    {
     "name": "stdout",
     "output_type": "stream",
     "text": [
      "Adding: 99 to [None]\n",
      "Heapifying up\n",
      "Heap Restored [None, 99]\n",
      "Adding: 22 to [None, 99]\n",
      "Heapifying up\n",
      "Heap Restored [None, 99, 22]\n",
      "Adding: 61 to [None, 99, 22]\n",
      "Heapifying up\n",
      "Heap Restored [None, 99, 22, 61]\n",
      "Adding: 10 to [None, 99, 22, 61]\n",
      "Heapifying up\n",
      "Heap Restored [None, 99, 22, 61, 10]\n",
      "Adding: 21 to [None, 99, 22, 61, 10]\n",
      "Heapifying up\n",
      "Heap Restored [None, 99, 22, 61, 10, 21]\n",
      "Adding: 13 to [None, 99, 22, 61, 10, 21]\n",
      "Heapifying up\n",
      "Heap Restored [None, 99, 22, 61, 10, 21, 13]\n",
      "Adding: 23 to [None, 99, 22, 61, 10, 21, 13]\n",
      "Heapifying up\n",
      "Heap Restored [None, 99, 22, 61, 10, 21, 13, 23]\n",
      "Removing: 99 from [None, 99, 22, 61, 10, 21, 13, 23]\n",
      "Last element moved to first: [None, 23, 22, 61, 10, 21, 13]\n",
      "Right child 61 is larger than left child 22\n",
      "Heapifying down!\n",
      "There is only a left child\n",
      "HEAP RESTORED! [None, 61, 22, 23, 10, 21, 13]\n",
      "\n",
      "Removing: 61 from [None, 61, 22, 23, 10, 21, 13]\n",
      "Last element moved to first: [None, 13, 22, 23, 10, 21]\n",
      "Right child 23 is larger than left child 22\n",
      "Heapifying down!\n",
      "There is only a left child\n",
      "HEAP RESTORED! [None, 23, 22, 13, 10, 21]\n",
      "\n",
      "Removing: 23 from [None, 23, 22, 13, 10, 21]\n",
      "Last element moved to first: [None, 21, 22, 13, 10]\n",
      "Left child 22 is larger than right child 13\n",
      "Heapifying down!\n",
      "There is only a left child\n",
      "HEAP RESTORED! [None, 22, 21, 13, 10]\n",
      "\n",
      "Removing: 22 from [None, 22, 21, 13, 10]\n",
      "Last element moved to first: [None, 10, 21, 13]\n",
      "Left child 21 is larger than right child 13\n",
      "Heapifying down!\n",
      "There is only a left child\n",
      "HEAP RESTORED! [None, 21, 10, 13]\n",
      "\n",
      "Removing: 21 from [None, 21, 10, 13]\n",
      "Last element moved to first: [None, 13, 10]\n",
      "There is only a left child\n",
      "HEAP RESTORED! [None, 13, 10]\n",
      "\n",
      "Removing: 13 from [None, 13, 10]\n",
      "Last element moved to first: [None, 10]\n",
      "There is only a left child\n",
      "HEAP RESTORED! [None, 10]\n",
      "\n",
      "Removing: 10 from [None, 10]\n",
      "Last element moved to first: [None]\n",
      "There is only a left child\n",
      "HEAP RESTORED! [None]\n",
      "\n",
      "[10, 13, 21, 22, 23, 61, 99]\n"
     ]
    }
   ],
   "source": [
    "from max_heap import MaxHeap \n",
    "\n",
    "def heapsort(lst):\n",
    "  sort = []\n",
    "  max_heap = MaxHeap()\n",
    "  for idx in lst:\n",
    "    max_heap.add(idx)\n",
    "  while max_heap.count > 0:\n",
    "    max_value = max_heap.retrieve_max()\n",
    "    sort.insert(0, max_value)\n",
    "  return sort\n",
    "\n",
    "my_list = [99, 22, 61, 10, 21, 13, 23]\n",
    "sorted_list = heapsort(my_list)\n",
    "print(sorted_list)"
   ]
  },
  {
   "cell_type": "code",
   "execution_count": null,
   "metadata": {},
   "outputs": [],
   "source": [
    "# # runtime for heapsort\n",
    "# A heapsort algorithm uses the heap data structure to organize data.\n",
    "# The first step to implement heapsort is to \n",
    "#     - place the data inside a heap.\n",
    "#     - While the heap has more than one element,\n",
    "#     extract the largest value in the heap by\n",
    "#     swapping it with the right-most child and \n",
    "#     then removing it. (O(1) retrieval with runtime of  + \n",
    "#           + heapify down w/ worst case runtime of log N + log N - 1\n",
    "#           + O(1) for get_larger_child_idx() )\n",
    "#     - After we swap the root value and the last value,\n",
    "#     we must restructure the heap until every parent has\n",
    "#     a larger value than their children again."
   ]
  },
  {
   "cell_type": "code",
   "execution_count": null,
   "metadata": {},
   "outputs": [],
   "source": []
  }
 ],
 "metadata": {
  "kernelspec": {
   "display_name": "base",
   "language": "python",
   "name": "python3"
  },
  "language_info": {
   "codemirror_mode": {
    "name": "ipython",
    "version": 3
   },
   "file_extension": ".py",
   "mimetype": "text/x-python",
   "name": "python",
   "nbconvert_exporter": "python",
   "pygments_lexer": "ipython3",
   "version": "3.9.15"
  }
 },
 "nbformat": 4,
 "nbformat_minor": 2
}
