{
 "cells": [
  {
   "cell_type": "code",
   "execution_count": 52,
   "id": "97458a15-8270-496e-8b40-17d3903f105b",
   "metadata": {},
   "outputs": [],
   "source": [
    "class Node:\n",
    "    def __init__(self, value, next_node=None):\n",
    "        self.value = value\n",
    "        self.next_node = next_node\n",
    "\n",
    "    def get_value(self):\n",
    "        return self.value\n",
    "\n",
    "    def get_next_node(self):\n",
    "        return self.next_node\n",
    "\n",
    "    def set_next_node(self, next_node):\n",
    "        self.next_node = next_node"
   ]
  },
  {
   "cell_type": "code",
   "execution_count": 90,
   "id": "3a493010-b7b8-465b-bf06-e268896f2f2b",
   "metadata": {},
   "outputs": [],
   "source": [
    "class LinkedList:\n",
    "    def __init__(self, value=None):\n",
    "        if value != None:\n",
    "            self.head_node = Node(value)\n",
    "        else:\n",
    "            self.head_node = None\n",
    "  \n",
    "    def get_head_node(self):\n",
    "        return self.head_node\n",
    "  \n",
    "    def insert_beginning(self, new_value):\n",
    "        new_node = Node(new_value)\n",
    "        if self.head_node == None:\n",
    "            self.head_node = new_node\n",
    "        else:\n",
    "            new_node.set_next_node(self.head_node)\n",
    "            self.head_node = new_node\n",
    "    \n",
    "    def stringify_list(self):\n",
    "        string_list = \"\"\n",
    "        current_node = self.get_head_node()\n",
    "        # curr = None\n",
    "        while current_node != None:\n",
    "            # print(current_node.value)\n",
    "            if current_node != None:\n",
    "                # print(current_node.value)\n",
    "                string_list += str(current_node.get_value()) + ' '\n",
    "            current_node = current_node.get_next_node()\n",
    "            # else:\n",
    "            #     print(\"lost runtime\")\n",
    "            # if current_node == curr:\n",
    "            #     print(\"No change\")\n",
    "            # curr = current_node\n",
    "        return string_list\n",
    "  \n",
    "    def remove_node(self, value_to_remove):\n",
    "        current_node = self.get_head_node()\n",
    "        if current_node.get_value() == value_to_remove:\n",
    "            self.head_node = current_node.get_next_node()\n",
    "        else:\n",
    "            while current_node:\n",
    "            # flag prevents attribute error: NoneType has no attribute get_value\n",
    "                if current_node.get_next_node() == None:\n",
    "                    break\n",
    "                next_node = current_node.get_next_node()\n",
    "                if next_node.get_value() == value_to_remove:\n",
    "                    current_node.set_next_node(next_node.get_next_node())\n",
    "                    current_node = None\n",
    "                else:\n",
    "                    current_node = next_node"
   ]
  },
  {
   "cell_type": "code",
   "execution_count": 109,
   "id": "9057212f-ae1e-4998-a289-9c3b607c1d7d",
   "metadata": {
    "tags": []
   },
   "outputs": [
    {
     "name": "stdout",
     "output_type": "stream",
     "text": [
      "1 2 3 4 5 6 7 8 9 10 \n"
     ]
    }
   ],
   "source": [
    "ll = LinkedList() # here None gets introduced\n",
    "\n",
    "for i in range(10,0,-1):\n",
    "    ll.insert_beginning(i)\n",
    "print(ll.stringify_list())"
   ]
  },
  {
   "cell_type": "code",
   "execution_count": 119,
   "id": "15329796-ae0d-45cb-ab67-32bf1a66d691",
   "metadata": {},
   "outputs": [],
   "source": [
    "# recursively traversing the linked list\n",
    "def recursiv_traversion(linked_list, counter = 0):\n",
    "    # initial value\n",
    "    i = 0\n",
    "    a = linked_list.head_node\n",
    "    \n",
    "    while i < counter:\n",
    "        i += 1\n",
    "        a = a.next_node\n",
    "    \n",
    "    # base case\n",
    "    if a.next_node == None:\n",
    "        return str(a.value)\n",
    "    # recursive step\n",
    "    counter += 1\n",
    "    \n",
    "    # having the function call in the return statement, causes the call stack\n",
    "    return  recursiv_traversion(linked_list, counter) + ' ' + str(a.value)"
   ]
  },
  {
   "cell_type": "code",
   "execution_count": 120,
   "id": "d3f963d0-ceb3-49fe-8aa7-87330ac21080",
   "metadata": {},
   "outputs": [
    {
     "name": "stdout",
     "output_type": "stream",
     "text": [
      "10 9 8 7 6 5 4 3 2 1\n"
     ]
    }
   ],
   "source": [
    "print(recursiv_traversion(ll))"
   ]
  },
  {
   "cell_type": "markdown",
   "id": "14922fc5-5e9f-4647-a12d-7ac83e627042",
   "metadata": {},
   "source": [
    "### one pointer to count length\n",
    "open question --> check for space complexity"
   ]
  },
  {
   "cell_type": "code",
   "execution_count": 106,
   "id": "c22cc48c-8d1f-41e2-a8a0-aa2afa7583db",
   "metadata": {},
   "outputs": [
    {
     "name": "stdout",
     "output_type": "stream",
     "text": [
      "53.3 ns ± 0.097 ns per loop (mean ± std. dev. of 7 runs, 10,000,000 loops each)\n"
     ]
    }
   ],
   "source": [
    "%%timeit \n",
    "def len_link(list):\n",
    "    temp=list.head_node\n",
    "    count=0\n",
    "    while(temp):\n",
    "        count+=1\n",
    "        temp=temp.next_node\n",
    "    return count"
   ]
  },
  {
   "cell_type": "code",
   "execution_count": 107,
   "id": "c6283511-fe30-4592-8cbe-21af7974289b",
   "metadata": {},
   "outputs": [
    {
     "name": "stdout",
     "output_type": "stream",
     "text": [
      "53.1 ns ± 0.462 ns per loop (mean ± std. dev. of 7 runs, 10,000,000 loops each)\n"
     ]
    }
   ],
   "source": [
    "%%timeit \n",
    "def len_link(list):\n",
    "    list_len = []\n",
    "    temp = list.head_node\n",
    "    while temp:\n",
    "        list_len.append(temp)\n",
    "        tep = temp.next_node\n",
    "    return len(list_len)"
   ]
  },
  {
   "cell_type": "code",
   "execution_count": 99,
   "id": "dac6537b-4fc6-4b65-b6b8-ed2acea46d74",
   "metadata": {},
   "outputs": [
    {
     "name": "stdout",
     "output_type": "stream",
     "text": [
      "10\n"
     ]
    }
   ],
   "source": [
    "print(len_link(ll))"
   ]
  },
  {
   "cell_type": "markdown",
   "id": "3cd00929-56fa-459c-8ac1-e5a2436772e0",
   "metadata": {},
   "source": [
    "### two pointers to swap nodes"
   ]
  },
  {
   "cell_type": "code",
   "execution_count": 92,
   "id": "3ca445ac-042f-486a-9189-e701999f668f",
   "metadata": {
    "tags": []
   },
   "outputs": [],
   "source": [
    "# import Node\n",
    "# import LinkedList\n",
    "\n",
    "def swap_nodes(input_list, val1, val2):\n",
    "    print(f'Swapping {val1} with {val2}')\n",
    "\n",
    "    node1_prev = None\n",
    "    node2_prev = None\n",
    "    node1 = input_list.head_node\n",
    "    node2 = input_list.head_node\n",
    "\n",
    "    if val1 == val2:\n",
    "        print(\"Elements are the same - no swap needed\")\n",
    "        return\n",
    "    # identifiying the nodes to swap\n",
    "    # identifiyng node 1\n",
    "    while node1 is not None:\n",
    "        if node1.get_value() == val1:\n",
    "            break\n",
    "        node1_prev = node1\n",
    "        node1 = node1.get_next_node()\n",
    "    # identifiyng node 2\n",
    "    while node2 is not None:\n",
    "        if node2.get_value() == val2:\n",
    "            break\n",
    "        node2_prev = node2\n",
    "        node2 = node2.get_next_node()\n",
    "\n",
    "    # edge case, one value is not (found) in the list\n",
    "    if (node1 is None or node2 is None):\n",
    "        print(\"Swap not possible - one or more element is not in the list\")\n",
    "        return\n",
    "\n",
    "    if node1_prev is None:\n",
    "        input_list.head_node = node2\n",
    "    else:\n",
    "        node1_prev.set_next_node(node2)\n",
    "\n",
    "    if node2_prev is None:\n",
    "        input_list.head_node = node1\n",
    "    else:\n",
    "        node2_prev.set_next_node(node1)\n",
    "\n",
    "    temp = node1.get_next_node()\n",
    "    node1.set_next_node(node2.get_next_node())\n",
    "    node2.set_next_node(temp)"
   ]
  },
  {
   "cell_type": "markdown",
   "id": "57932797-0e64-491f-b15a-6158f95ef9fa",
   "metadata": {},
   "source": [
    "### Using two pointers moving in parallel"
   ]
  },
  {
   "cell_type": "markdown",
   "id": "a7f7620e-d60d-495d-9963-e734b35b107d",
   "metadata": {},
   "source": [
    "Complete the nth_last_node() function so that it returns the correct Node instance (or None if the linked_list is shorter than n elements). Do this without creating any additional new data structures (such as a list). You can assume that the linked list has no cycles.\n",
    "\n",
    "You can use the generate_test_linked_list() function to test it yourself. It returns a linked list with values from 1 -> 2 -> ... -> 49 -> 50."
   ]
  },
  {
   "cell_type": "code",
   "execution_count": 93,
   "id": "4a1a3038-4209-4251-8974-5ce149a50f56",
   "metadata": {},
   "outputs": [
    {
     "name": "stdout",
     "output_type": "stream",
     "text": [
      "1 2 3 4 5 6 7 8 9 10 11 12 13 14 15 16 17 18 19 20 21 22 23 24 25 26 27 28 29 30 31 32 33 34 35 36 37 38 39 40 41 42 43 44 45 46 47 48 49 50 \n",
      "47\n"
     ]
    }
   ],
   "source": [
    "def nth_last_node(linked_list, n):\n",
    "  tail_pointer = linked_list.head_node\n",
    "  nth_pointer = None\n",
    "\n",
    "  counter = 1\n",
    "  while tail_pointer:\n",
    "    tail_pointer = tail_pointer.next_node\n",
    "    counter += 1\n",
    "\n",
    "    if counter >= n+1:\n",
    "      if nth_pointer == None:\n",
    "        nth_pointer = linked_list.head_node\n",
    "      else:\n",
    "        nth_pointer = nth_pointer.next_node\n",
    "  return nth_pointer\n",
    "  \n",
    "\n",
    "def generate_test_linked_list():\n",
    "  linked_list = LinkedList()\n",
    "  for i in range(50, 0, -1):\n",
    "    linked_list.insert_beginning(i)\n",
    "  return linked_list\n",
    "\n",
    "# Use this to test your code:\n",
    "test_list = generate_test_linked_list()\n",
    "print(test_list.stringify_list())\n",
    "nth_last = nth_last_node(test_list, 4)\n",
    "print(nth_last.value)"
   ]
  },
  {
   "cell_type": "markdown",
   "id": "ca49d0d1-c495-43f9-91c8-1ceef2026818",
   "metadata": {},
   "source": [
    "### Asynchroneus pointers\n",
    "finding the middle"
   ]
  },
  {
   "cell_type": "code",
   "execution_count": 71,
   "id": "dd53f5cd-8f4a-4882-b811-4dcbe4d99e8b",
   "metadata": {
    "collapsed": true,
    "jupyter": {
     "outputs_hidden": true
    },
    "tags": []
   },
   "outputs": [
    {
     "ename": "NameError",
     "evalue": "name 'LinkedList' is not defined",
     "output_type": "error",
     "traceback": [
      "\u001b[1;31m---------------------------------------------------------------------------\u001b[0m",
      "\u001b[1;31mNameError\u001b[0m                                 Traceback (most recent call last)",
      "Cell \u001b[1;32mIn[71], line 36\u001b[0m\n\u001b[0;32m     33\u001b[0m   \u001b[38;5;28;01mreturn\u001b[39;00m linked_list\n\u001b[0;32m     35\u001b[0m \u001b[38;5;66;03m# Use this to test your code:\u001b[39;00m\n\u001b[1;32m---> 36\u001b[0m test_list \u001b[38;5;241m=\u001b[39m \u001b[43mgenerate_test_linked_list\u001b[49m\u001b[43m(\u001b[49m\u001b[38;5;241;43m7\u001b[39;49m\u001b[43m)\u001b[49m\n\u001b[0;32m     37\u001b[0m \u001b[38;5;28mprint\u001b[39m(test_list\u001b[38;5;241m.\u001b[39mstringify_list())\n\u001b[0;32m     38\u001b[0m middle_node \u001b[38;5;241m=\u001b[39m find_middle(test_list)\n",
      "Cell \u001b[1;32mIn[71], line 30\u001b[0m, in \u001b[0;36mgenerate_test_linked_list\u001b[1;34m(length)\u001b[0m\n\u001b[0;32m     29\u001b[0m \u001b[38;5;28;01mdef\u001b[39;00m \u001b[38;5;21mgenerate_test_linked_list\u001b[39m(length):\n\u001b[1;32m---> 30\u001b[0m   linked_list \u001b[38;5;241m=\u001b[39m \u001b[43mLinkedList\u001b[49m()\n\u001b[0;32m     31\u001b[0m   \u001b[38;5;28;01mfor\u001b[39;00m i \u001b[38;5;129;01min\u001b[39;00m \u001b[38;5;28mrange\u001b[39m(length, \u001b[38;5;241m0\u001b[39m, \u001b[38;5;241m-\u001b[39m\u001b[38;5;241m1\u001b[39m):\n\u001b[0;32m     32\u001b[0m     linked_list\u001b[38;5;241m.\u001b[39minsert_beginning(i)\n",
      "\u001b[1;31mNameError\u001b[0m: name 'LinkedList' is not defined"
     ]
    }
   ],
   "source": [
    "# Complete this function:\n",
    "def find_middle(linked_list):\n",
    "  fast = linked_list.head_node\n",
    "  slow = linked_list.head_node\n",
    "  while fast:\n",
    "    fast = fast.get_next_node()\n",
    "    if fast:\n",
    "      fast = fast.get_next_node()\n",
    "      slow = slow.get_next_node()\n",
    "  return slow\n",
    "\n",
    "# my original solution checks for the even length case to return the half of the even number\n",
    "# def find_middle(linked_list):\n",
    "#   fast_pointer = linked_list.head_node\n",
    "#   slow_pointer = linked_list.head_node\n",
    "#   while fast_pointer:\n",
    "#     fast_pointer = fast_pointer.next_node\n",
    "#     if fast_pointer != None:\n",
    "#       fast_pointer = fast_pointer.next_node\n",
    "#       if fast_pointer != None:\n",
    "#         slow_pointer = slow_pointer.next_node\n",
    "#       else:\n",
    "#         print(\"There is an even number of nodes with half of it being at \", slow_pointer)\n",
    "#         return slow_pointer\n",
    "#     else:\n",
    "#       return slow_pointer\n",
    "\n",
    "\n",
    "def generate_test_linked_list(length):\n",
    "  linked_list = LinkedList()\n",
    "  for i in range(length, 0, -1):\n",
    "    linked_list.insert_beginning(i)\n",
    "  return linked_list\n",
    "\n",
    "# Use this to test your code:\n",
    "test_list = generate_test_linked_list(7)\n",
    "print(test_list.stringify_list())\n",
    "middle_node = find_middle(test_list)\n",
    "print(middle_node.value)"
   ]
  },
  {
   "cell_type": "markdown",
   "id": "99546325-9f9d-4c72-858a-1f6611f10174",
   "metadata": {},
   "source": [
    "## Stack OVERFLOW PROBLEMS"
   ]
  },
  {
   "cell_type": "code",
   "execution_count": 75,
   "id": "9088c0cb-ff59-48ab-be58-1f94ac1b6de0",
   "metadata": {},
   "outputs": [],
   "source": [
    "ll_docs = {'data': ['pdf', 2, 4],\n",
    "           'next': {'data': ['csv', 1, 1],\n",
    "                    'next': {'data': ['pdf', 234, 53],\n",
    "                             'next': {'data': ['xml', 1, 2],\n",
    "                                      'next': {'data': ['pdf', 0, 1],\n",
    "                                               'next': None}}}}}"
   ]
  },
  {
   "cell_type": "code",
   "execution_count": null,
   "id": "235f86e1-0745-4ebb-8adf-c1354d56ff3b",
   "metadata": {
    "tags": []
   },
   "outputs": [],
   "source": [
    "def remove_all(lst):\n",
    "    ptr = lst\n",
    "    while ptr['data'][0] == 'pdf':\n",
    "        ptr = ptr['next']\n",
    "        lst = ptr\n",
    "    all_removed = True\n",
    "    while not all_removed:\n",
    "        all_removed = False\n",
    "        while ptr['next'] != None:\n",
    "            if ptr['next']['data'][0] == 'pdf':\n",
    "                ptr['next'] = ptr['next']['next']\n",
    "                all_removed = True\n",
    "            ptr = ptr['next']\n",
    "    return lst"
   ]
  },
  {
   "cell_type": "code",
   "execution_count": 74,
   "id": "3b6706cf-9893-41a4-8003-06af310ab16a",
   "metadata": {
    "tags": []
   },
   "outputs": [
    {
     "data": {
      "text/plain": [
       "{'data': ['csv', 1, 1],\n",
       " 'next': {'data': ['pdf', 234, 53],\n",
       "  'next': {'data': ['xml', 1, 2],\n",
       "   'next': {'data': ['pdf', 0, 1], 'next': None}}}}"
      ]
     },
     "execution_count": 74,
     "metadata": {},
     "output_type": "execute_result"
    }
   ],
   "source": [
    "remove_all(ll_docs)"
   ]
  },
  {
   "cell_type": "code",
   "execution_count": 57,
   "id": "c3fccbc3-c9f1-4e62-a98b-83122e26bf2e",
   "metadata": {
    "tags": []
   },
   "outputs": [],
   "source": [
    "def remove_all(lst):\n",
    "    # initiating final ll and temporary LL for single nodes to be stored\n",
    "    final_ll = {}\n",
    "    temp_ll = final_ll \n",
    "\n",
    "    # the while loop catches all nodes but the last one\n",
    "    while lst['next'] != None:\n",
    "\n",
    "        # undesired nodes\n",
    "        if lst['data'][0] == 'pdf':\n",
    "            # jumping to next node\n",
    "            lst = lst['next']\n",
    "\n",
    "        # desired nodes to include\n",
    "        else:\n",
    "            temp_ll['data'] = lst['data']\n",
    "            temp_ll['next'] = {}\n",
    "            temp_ll = temp_ll['next']\n",
    "            # jumping to next node\n",
    "            lst = lst['next']\n",
    "\n",
    "    # catching the last node\n",
    "    temp_ll['data'] = lst['data']\n",
    "    temp_ll['next'] = None\n",
    "    return final_ll"
   ]
  },
  {
   "cell_type": "code",
   "execution_count": 69,
   "id": "19e7360a-27b9-4b4f-a400-63666e859c92",
   "metadata": {
    "tags": []
   },
   "outputs": [
    {
     "data": {
      "text/plain": [
       "{'data': ['json', 176, 157],\n",
       " 'next': {'data': ['json', 102, 149],\n",
       "  'next': {'data': ['csv', 86, 20],\n",
       "   'next': {'data': ['pdf', 245, 202],\n",
       "    'next': {'data': ['csv', 145, 19],\n",
       "     'next': {'data': ['json', 24, 78],\n",
       "      'next': {'data': ['xml', 36, 82],\n",
       "       'next': {'data': ['html', 111, 20], 'next': None}}}}}}}}"
      ]
     },
     "execution_count": 69,
     "metadata": {},
     "output_type": "execute_result"
    }
   ],
   "source": [
    "from random import randint as r_\n",
    "documents = ['pdf', 'xml', 'csv', 'json', 'html']\n",
    "\n",
    "def prod_doc_ll_list(size = 3):\n",
    "    ll_docs = {}\n",
    "    ll_doc = ll_docs\n",
    "    for i in range(size):\n",
    "        ll_doc['data'] = [documents[r_(0,4)], r_(0,250), r_(0,250)]\n",
    "        if i < size-1:\n",
    "            ll_doc['next'] = {}\n",
    "            ll_doc = ll_doc['next']\n",
    "        else:\n",
    "            ll_doc['next'] = None\n",
    "    return ll_docs\n",
    "        \n",
    "docs = prod_doc_ll_list(8)\n",
    "docs"
   ]
  },
  {
   "cell_type": "code",
   "execution_count": 70,
   "id": "37d97911-44ea-4bab-96ab-4e98f4acda90",
   "metadata": {},
   "outputs": [
    {
     "data": {
      "text/plain": [
       "{'data': ['json', 176, 157],\n",
       " 'next': {'data': ['json', 102, 149],\n",
       "  'next': {'data': ['csv', 86, 20],\n",
       "   'next': {'data': ['csv', 145, 19],\n",
       "    'next': {'data': ['json', 24, 78],\n",
       "     'next': {'data': ['xml', 36, 82],\n",
       "      'next': {'data': ['html', 111, 20], 'next': None}}}}}}}"
      ]
     },
     "execution_count": 70,
     "metadata": {},
     "output_type": "execute_result"
    }
   ],
   "source": [
    "remove_all(docs)"
   ]
  },
  {
   "cell_type": "code",
   "execution_count": 1,
   "id": "a01a2425-bbc8-413c-9df5-3bb56dafc316",
   "metadata": {},
   "outputs": [],
   "source": [
    "class Node:\n",
    "    def __init__(self, item, next):\n",
    "        self.item = item\n",
    "        self.next = next\n",
    "\n",
    "class LinkedList:\n",
    "    def __init__(self):\n",
    "        self.head = None\n",
    "\n",
    "    def add(self, item):\n",
    "        self.head = Node(item, self.head)\n",
    "\n",
    "    def remove(self):\n",
    "        if self.is_empty():\n",
    "            return None\n",
    "        else:\n",
    "            item = self.head.item\n",
    "            self.head = self.head.next\n",
    "            return item\n",
    "\n",
    "    def is_empty(self):\n",
    "        return self.head == None\n",
    "\n",
    "    def __str__(self):\n",
    "        tmp_str = \"\"\n",
    "        ptr = self.head\n",
    "        while ptr != None:\n",
    "            tmp_str += str(ptr.item) + \" \"\n",
    "            ptr = ptr.next\n",
    "\n",
    "        return tmp_str\n",
    "            \n",
    "    def append_(self, item):\n",
    "        if not self.head:\n",
    "            self.head = Node(item, self.head)\n",
    "            return\n",
    "        else:\n",
    "            ptr = self.head\n",
    "            while ptr.next:                    # traverse until ptr.next is None\n",
    "                ptr = ptr.next\n",
    "            ptr.next = Node(item, ptr.next)    # initialise ptr.next\n",
    "            return"
   ]
  },
  {
   "cell_type": "code",
   "execution_count": 12,
   "id": "d3154b1c-f941-46d9-9fd1-fcd9477a275d",
   "metadata": {},
   "outputs": [],
   "source": [
    "ll_1 = LinkedList()\n",
    "for i in range(10,0,-1):\n",
    "    ll_1.append_(i)\n",
    "    \n",
    "ll_2 = LinkedList()\n",
    "for s in \"some very long STRING\":\n",
    "    ll_2.append_(s) "
   ]
  },
  {
   "cell_type": "code",
   "execution_count": 13,
   "id": "502ddf4b-f7fd-409f-886e-822c45e32342",
   "metadata": {},
   "outputs": [
    {
     "data": {
      "text/plain": [
       "'10 9 8 7 6 5 4 3 2 1 '"
      ]
     },
     "execution_count": 13,
     "metadata": {},
     "output_type": "execute_result"
    }
   ],
   "source": [
    "ll_1.__str__()"
   ]
  },
  {
   "cell_type": "code",
   "execution_count": 14,
   "id": "5d7d0740-d551-40e1-9a69-3bdbd296f806",
   "metadata": {},
   "outputs": [
    {
     "data": {
      "text/plain": [
       "'s o m e   v e r y   l o n g   S T R I N G '"
      ]
     },
     "execution_count": 14,
     "metadata": {},
     "output_type": "execute_result"
    }
   ],
   "source": [
    "ll_2.__str__()"
   ]
  },
  {
   "cell_type": "code",
   "execution_count": null,
   "id": "cd2bddfc-d14a-4a25-ab67-971886fddaa9",
   "metadata": {},
   "outputs": [
    {
     "data": {
      "text/plain": [
       "''"
      ]
     },
     "execution_count": 109,
     "metadata": {},
     "output_type": "execute_result"
    }
   ],
   "source": []
  }
 ],
 "metadata": {
  "kernelspec": {
   "display_name": "Python 3 (ipykernel)",
   "language": "python",
   "name": "python3"
  },
  "language_info": {
   "codemirror_mode": {
    "name": "ipython",
    "version": 3
   },
   "file_extension": ".py",
   "mimetype": "text/x-python",
   "name": "python",
   "nbconvert_exporter": "python",
   "pygments_lexer": "ipython3",
   "version": "3.9.15"
  }
 },
 "nbformat": 4,
 "nbformat_minor": 5
}
