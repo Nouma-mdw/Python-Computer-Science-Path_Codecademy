{
 "cells": [
  {
   "cell_type": "markdown",
   "metadata": {},
   "source": [
    "# Sorting Algorithms:\n",
    "Sorting algorithms sort unsorted arrays."
   ]
  },
  {
   "cell_type": "code",
   "execution_count": null,
   "metadata": {},
   "outputs": [],
   "source": [
    "Best Case\tWorst Case\tAverage Case\tSpace Complexity\n",
    "Bubble Sort\tΩ(n)\tO(n^2)\tO(n^2)\tO(1)\n",
    "Merge Sort\tΩ(n log n)\tO(n log n)\tO(n log n)\tO(n)\n",
    "Quicksort\tΩ(n log n)\tO(n^2)\tO(n log n)\tO(log n)"
   ]
  },
  {
   "cell_type": "markdown",
   "metadata": {},
   "source": [
    "### 1. Bubble Sort\n",
    "Compares two cnsecutive elements of the  array (< or >) and swaps them in case they are not sorted accordingly.\n",
    "This process gets iterated through the whole list.\n",
    "In the first iteration, only the smalles/biggest element is in the right position.\n",
    "In the second iteration only N1 elements have to be sorted so we \"only\" need N-1 iterations.\n",
    "After that two elements are sorted so we only need a runtime for sorting N-2 elemnts so N-2 iterations.\n",
    "And so on..."
   ]
  },
  {
   "cell_type": "code",
   "execution_count": 1,
   "metadata": {},
   "outputs": [
    {
     "name": "stdout",
     "output_type": "stream",
     "text": [
      "PRE SORT: [9, 8, 7, 6, 5, 4, 3, 2, 1]\n",
      "PRE-OPTIMIZED ITERATION COUNT: 72\n",
      "POST-OPTIMIZED ITERATION COUNT: 36\n",
      "POST SORT: [1, 2, 3, 4, 5, 6, 7, 8, 9]\n"
     ]
    }
   ],
   "source": [
    "# runtime: O(N^2)\n",
    "\n",
    "nums = [9, 8, 7, 6, 5, 4, 3, 2, 1]\n",
    "print(\"PRE SORT: {0}\".format(nums))\n",
    "\n",
    "def swap(arr, index_1, index_2):\n",
    "  temp = arr[index_1]\n",
    "  arr[index_1] = arr[index_2]\n",
    "  arr[index_2] = temp\n",
    "\n",
    "def bubble_sort_unoptimized(arr):\n",
    "  iteration_count = 0\n",
    "  for el in arr:\n",
    "    for index in range(len(arr) - 1):\n",
    "      iteration_count += 1\n",
    "      if arr[index] > arr[index + 1]:\n",
    "        swap(arr, index, index + 1)\n",
    "\n",
    "  print(\"PRE-OPTIMIZED ITERATION COUNT: {0}\".format(iteration_count))\n",
    "\n",
    "def bubble_sort(arr):\n",
    "  iteration_count = 0\n",
    "  for i in range(len(arr)):\n",
    "    # iterate through unplaced elements\n",
    "    for idx in range(len(arr) - i - 1):\n",
    "      iteration_count += 1\n",
    "      if arr[idx] > arr[idx + 1]:\n",
    "        # replacement for swap function\n",
    "        arr[idx], arr[idx + 1] = arr[idx + 1], arr[idx]\n",
    "        \n",
    "  print(\"POST-OPTIMIZED ITERATION COUNT: {0}\".format(iteration_count))\n",
    "\n",
    "bubble_sort_unoptimized(nums.copy())\n",
    "bubble_sort(nums)\n",
    "print(\"POST SORT: {0}\".format(nums))"
   ]
  },
  {
   "cell_type": "markdown",
   "metadata": {},
   "source": [
    "### 2. Merge Sort:\n",
    "Merge_sort hast to components. Ont hte  onehand it splits the list in halves and these halves again in halves, until only soingle elemetns are left.\n",
    "The second component merges two components (elements or lists) at time.\n",
    "WHen merging it compares the first index of the left with the  first index of the  right, the smaller value gets added and popped from the original list (left or right). Then again the (new) first element of the  left and right lists get compared, the smalles added to the list and then popped from the original sorted list.\n",
    "This index coparison allos the merge."
   ]
  },
  {
   "cell_type": "code",
   "execution_count": 3,
   "metadata": {},
   "outputs": [
    {
     "name": "stdout",
     "output_type": "stream",
     "text": [
      "[125, 264, 356, 455, 569, 746, 895, 949]\n",
      "[19, 113, 180, 201, 202, 268, 276, 318, 370, 373, 391, 403, 534, 543, 571, 595, 624, 677, 717, 770, 787, 795, 975]\n",
      "[147, 151, 380, 387, 439, 542, 585, 743, 820, 860, 865, 924]\n"
     ]
    }
   ],
   "source": [
    "# created by john von Neumann\n",
    "# runtime: O(N*log(N)) don't know how?\n",
    "\n",
    "def merge_sort(items):\n",
    "  if len(items) <= 1:\n",
    "    return items\n",
    "\n",
    "  middle_index = len(items) // 2\n",
    "  left_split = items[:middle_index]\n",
    "  right_split = items[middle_index:]\n",
    "\n",
    "  left_sorted = merge_sort(left_split)\n",
    "  right_sorted = merge_sort(right_split)\n",
    "\n",
    "  return merge(left_sorted, right_sorted)\n",
    "\n",
    "def merge(left, right):\n",
    "  result = []\n",
    "\n",
    "  while (left and right):\n",
    "    if left[0] < right[0]:\n",
    "      result.append(left.pop(0))\n",
    "    else:\n",
    "      result.append(right.pop(0))\n",
    "\n",
    "  if left:\n",
    "    result += left\n",
    "  if right:\n",
    "    result += right\n",
    "\n",
    "  return result\n",
    "\n",
    "unordered_list1 = [356, 746, 264, 569, 949, 895, 125, 455]\n",
    "unordered_list2 = [787, 677, 391, 318, 543, 717, 180, 113, 795, 19, 202, 534, 201, 370, 276, 975, 403, 624, 770, 595, 571, 268, 373]\n",
    "unordered_list3 = [860, 380, 151, 585, 743, 542, 147, 820, 439, 865, 924, 387]\n",
    "\n",
    "ordered_list1 = merge_sort(unordered_list1)\n",
    "ordered_list2 = merge_sort(unordered_list2)\n",
    "ordered_list3 = merge_sort(unordered_list3)\n",
    "for x in [ordered_list1, ordered_list2, ordered_list3]:\n",
    "  print(x)\n"
   ]
  },
  {
   "cell_type": "code",
   "execution_count": null,
   "metadata": {},
   "outputs": [],
   "source": [
    "# other version in short\n",
    "\n",
    "def merge_sort(unsorted):\n",
    "  if len(unsorted) <= 1:\n",
    "    return unsorted\n",
    "\n",
    "  # Complete the code below\n",
    "  mid = len(unsorted) // 2\n",
    "  l_sorted = merge_sort(unsorted[:mid])\n",
    "  r_sorted = merge_sort(unsorted[mid:])\n",
    "  \n",
    "  return merge(l_sorted, r_sorted)\n",
    "  \n",
    "def merge(left, right):\n",
    "  result = []\n",
    "  while (left and right):\n",
    "    if left[0] < right[0]:\n",
    "      result.append(left.pop(0))\n",
    "    else:\n",
    "      result.append(right.pop(0))\n",
    "  \n",
    "  result += left\n",
    "  result += right\n",
    "  return result\n",
    "\n",
    "print(merge_sort([2,4,3,5,1]))"
   ]
  },
  {
   "cell_type": "markdown",
   "metadata": {},
   "source": [
    "### 3. Quicksort\n",
    "Uses a pivot element"
   ]
  },
  {
   "cell_type": "code",
   "execution_count": null,
   "metadata": {},
   "outputs": [
    {
     "name": "stdout",
     "output_type": "stream",
     "text": [
      "PRE SORT:  [8, 6, 5, 7, 3, 2, 4, 1]\n",
      "Running quicksort on [8, 6, 5, 7, 3, 2, 4, 1]\n",
      "Selected pivot 7\n",
      "Swapping 6 with 8\n",
      "Swapping 5 with 8\n",
      "Swapping 1 with 8\n",
      "Swapping 3 with 8\n",
      "Swapping 2 with 8\n",
      "Swapping 4 with 8\n",
      "[6, 5, 1, 3, 2, 4, 7, 8] successfully partitioned\n",
      "Running quicksort on [6, 5, 1, 3, 2, 4]\n",
      "Selected pivot 4\n",
      "Swapping 1 with 6\n",
      "Swapping 3 with 5\n",
      "Swapping 2 with 6\n",
      "[1, 3, 2, 4, 6, 5] successfully partitioned\n",
      "Running quicksort on [1, 3, 2]\n",
      "Selected pivot 3\n",
      "Swapping 1 with 1\n",
      "Swapping 2 with 2\n",
      "[1, 2, 3] successfully partitioned\n",
      "Running quicksort on [1, 2]\n",
      "Selected pivot 1\n",
      "[1, 2] successfully partitioned\n",
      "Running quicksort on [6, 5]\n",
      "Selected pivot 6\n",
      "Swapping 5 with 5\n",
      "[5, 6] successfully partitioned\n",
      "None\n",
      "POST SORT:  [1, 2, 3, 4, 5, 6, 7, 8]\n"
     ]
    }
   ],
   "source": [
    "# runtime: Big O(N^2)  Average (N*logN)\n",
    "# space complexity unknown\n",
    "from random import randrange, shuffle\n",
    "\n",
    "def quicksort(list, start, end):\n",
    "  # this portion of list has been sorted\n",
    "  if start >= end:\n",
    "    return\n",
    "  print(\"Running quicksort on {0}\".format(list[start: end + 1]))\n",
    "  # select random element to be pivot\n",
    "  pivot_idx = randrange(start, end + 1)\n",
    "  pivot_element = list[pivot_idx]\n",
    "  print(\"Selected pivot {0}\".format(pivot_element))\n",
    "  # swap random element with last element in sub-lists\n",
    "  list[end], list[pivot_idx] = list[pivot_idx], list[end]\n",
    "\n",
    "  # tracks all elements which should be to left (lesser than) pivot\n",
    "  less_than_pointer = start\n",
    "  \n",
    "  for i in range(start, end):\n",
    "    # we found an element out of place\n",
    "    if list[i] < pivot_element:\n",
    "      # swap element to the right-most portion of lesser elements\n",
    "      print(\"Swapping {0} with {1}\".format(list[i], list[less_than_pointer]))\n",
    "      list[i], list[less_than_pointer] = list[less_than_pointer], list[i]\n",
    "      # tally that we have one more lesser element\n",
    "      less_than_pointer += 1\n",
    "  # move pivot element to the right-most portion of lesser elements\n",
    "  list[end], list[less_than_pointer] = list[less_than_pointer], list[end]\n",
    "  print(\"{0} successfully partitioned\".format(list[start: end + 1]))\n",
    "  # recursively sort left and right sub-lists\n",
    "  quicksort(list, start, less_than_pointer - 1)\n",
    "  quicksort(list, less_than_pointer + 1, end)\n",
    "\n",
    "\n",
    "    \n",
    "  \n",
    "list = [5,3,1,7,4,6,2,8]\n",
    "shuffle(list)\n",
    "print(\"PRE SORT: \", list)\n",
    "print(quicksort(list, 0, len(list) -1))\n",
    "print(\"POST SORT: \", list)\n"
   ]
  },
  {
   "cell_type": "markdown",
   "metadata": {},
   "source": [
    "### 4. Insertion Sort\n",
    "From WIkipedia:\n",
    "'''\n",
    "Insertion sort is  a simple sorting algorithm that builds the final sorted array (or list) one item at a time by comparisons. It is much less efficient on large lists than more advanced algorihtms such as quicksort, heapsort, or merge sort. However, insertion sort provides several advantages:\n",
    "- Simple implementation: Jon Bentley shows a three-line C/C++ version that is five lines when optimized.\n",
    "- Efficient for (quite) small data sets, much like other quadratic (i.e., O(N^2)) sorting algorithms\n",
    "- More efficient in practice than most other simple quadratic algorithms such as selection sort or bubble sort\n",
    "- Adaptive, i.e.  efficient for data sets that are already substantially sorted: the time complexity is O(kN) when each element in the input is no more than k places away from its sorted position\n",
    "- Stable; i.e., does not change the relative order of elements with equal keys\n",
    "- In-place; i.e., only requires a constant amount O(1) of additional memory space\n",
    "- Online;i.e., cana sort a list as it receives it\n",
    "\n",
    "When people manually sort in a bride hand, most use a method that is  similar to insertion sort.\n",
    "'''"
   ]
  },
  {
   "cell_type": "code",
   "execution_count": 18,
   "metadata": {},
   "outputs": [
    {
     "name": "stdout",
     "output_type": "stream",
     "text": [
      "PRE Insertion_SORT:\n",
      " [4, 6, 7, 2, 5, 3, 1, 8]\n",
      "POST SORT:  [1, 2, 3, 4, 5, 6, 7, 8]\n",
      "\n",
      "PRE Insertion_opt_SORT:\n",
      " [4, 6, 7, 2, 5, 3, 1, 8]\n",
      "POST SORT:  [1, 2, 3, 4, 5, 6, 7, 8]\n"
     ]
    }
   ],
   "source": [
    "# runtime:\n",
    "'''\n",
    "first while loop: N-1 Iterations\n",
    "second while loop: for every index of i (1 to N)\n",
    "it has up to  i*(i+1)/2 iterations due to step (*1*)\n",
    "'''\n",
    "from random import randrange, shuffle\n",
    "\n",
    "# this code changes the original list\n",
    "def insertion_sort(arr):\n",
    "    i = 1\n",
    "    while i < len(arr):\n",
    "        j = i\n",
    "        while j > 0 and arr[j-1] > arr[j]:\n",
    "            arr[j-1], arr[j] = arr[j], arr[j-1] # (*1*) brings smallest element iteratively back to the start\n",
    "            j -= 1\n",
    "        i += 1\n",
    "\n",
    "'''visualization:\n",
    "starting pointers for both while loops\n",
    "                                i = 1 -> [+1 ->]\n",
    "                                j = i -> [follows along]\n",
    "                        [x_0,   x_1,    x_2,    x_3,    x_4,    x_5]\n",
    "2nd while_L comparison:       \n",
    "                        arr[j-1] >arr[j]\n",
    "\n",
    "'''\n",
    "\n",
    "\n",
    "def insertion_sort_optimized(arr):\n",
    "    i = 1\n",
    "    while i < len(arr):\n",
    "        x = arr[i]\n",
    "        j = i -1\n",
    "        while j >= 0 and arr[j] > x:\n",
    "            arr[j+1] = arr[j] # (*2*) this line brings \n",
    "            j -= 1\n",
    "        arr[j+1] = x\n",
    "        i += 1\n",
    "\n",
    "\n",
    "list = [5,3,1,7,4,6,2,8]\n",
    "shuffle(list)\n",
    "list_c1 = list.copy() \n",
    "list_c2 = list_c1.copy()\n",
    "print(\"PRE Insertion_SORT:\\n\", list_c1)\n",
    "insertion_sort(list_c1)\n",
    "print(\"POST SORT: \", list_c1, end = \"\\n\"*2)\n",
    "print(\"PRE Insertion_opt_SORT:\\n\", list_c2)\n",
    "insertion_sort_optimized(list_c2)\n",
    "print(\"POST SORT: \", list_c2)"
   ]
  },
  {
   "cell_type": "markdown",
   "metadata": {},
   "source": [
    "### 5. Timsort\n",
    "From Wikipedia:\n",
    "'''\n",
    "Timsort is a hybrid, stabel sorting algorithm, derived from merge srot and insertion sort, designed to perform well on many kinds of real_world data. It was implemented by Tim Peters in 2002 for use in the Python programming language. The algorithm finds subsequences of the data that are already ordered (runs) and uses them to sort the remainder more efficiently. This is done by merging runs until certain criteria is fulfilled. Timsort has been Python's standard orting algorithm since vesion 2.3. It is  also  used to sort arrays of non-primitive type in Java SE 7, on the Android platform, in GNU Octave, in V8, Swift and Rust.\n",
    "\n",
    "It uses techniques from Peter Mcllroy's 1993 paper \"OPtimistic Sorting and Information Theoretic Complexity\".\n",
    "'''"
   ]
  },
  {
   "cell_type": "markdown",
   "metadata": {},
   "source": []
  }
 ],
 "metadata": {
  "kernelspec": {
   "display_name": "base",
   "language": "python",
   "name": "python3"
  },
  "language_info": {
   "codemirror_mode": {
    "name": "ipython",
    "version": 3
   },
   "file_extension": ".py",
   "mimetype": "text/x-python",
   "name": "python",
   "nbconvert_exporter": "python",
   "pygments_lexer": "ipython3",
   "version": "3.9.15"
  }
 },
 "nbformat": 4,
 "nbformat_minor": 2
}
