{
 "cells": [
  {
   "cell_type": "markdown",
   "metadata": {},
   "source": [
    "Examples for intuition:\n",
    "\n",
    " - \"If in a a loop no new variables are created,\n",
    "    the space complexity is O(1). e.g.\n",
    "\tdef simple_loop(input_array):\n",
    "\t  for i in simple_array:\n",
    "\t    print(i)\n",
    "    \tit has time complexity of O(n) but \n",
    "\ta space complexity of O(1)\"\n",
    "\n",
    " - \"Like with time complexity, space complexity denotes space growth\n",
    "\tin relation to the input size. It’s also important to note that\n",
    "\tspace complexity usually refers to any additional space that will be needed,\n",
    "\tand doesn’t count the space of the input. So a function could have 10 arrays passed \tinto it, but if all it does inside is print 'Hello World!', then it still takes O(1) \tspace.\n"
   ]
  },
  {
   "cell_type": "code",
   "execution_count": null,
   "metadata": {},
   "outputs": [],
   "source": [
    "def double_array(input_array):\n",
    "  # Returns an array that is the double of the input array\n",
    "  length = len(input_array)\n",
    "  doubled_array = [0] * length\n",
    "  for i in range(length):\n",
    "    doubled_array[i] = input_array[i] * 2\n",
    "  return doubled_array\n",
    "\n",
    "\n",
    "def find_min(input_array):\n",
    "  # Returns the smallest element in the array\n",
    "  minimum = input_array[0]\n",
    "  for i in input_array:\n",
    "    if i < minimum:\n",
    "      minimum = i\n",
    "  return minimum"
   ]
  },
  {
   "cell_type": "markdown",
   "metadata": {},
   "source": [
    "The function double_array() returns an array of the length of the input.\\n\n",
    "During execution an array of size N, size of the input is created,\n",
    "therefore the number of new variables created, occupying space in memory,\n",
    "is the same size of the input.\n",
    "\n",
    "The function find_in() returns one variable. During execution it only creates one new variable\n",
    "independently of the size of the input array. That is why the space complexity is O(1).\n",
    "Note, the fact, that this variable might be updated up to N times, the size of the input,\n",
    "is a number of operations and therefore determines a runtime of O(n).\n",
    "Therefore the space complexity os O(1) and the  time complexity is O(n)."
   ]
  },
  {
   "cell_type": "markdown",
   "metadata": {},
   "source": [
    "double_in_place() does the same thing as double_array() and in the same amount of time, but only takes O(1) space, simply because it doesn’t create a new array. As you move forward, remember that just because a program has the best runtime possible, doesn’t mean it can’t still be optimized."
   ]
  },
  {
   "cell_type": "code",
   "execution_count": null,
   "metadata": {},
   "outputs": [],
   "source": [
    "def double_in_place(input_array):\n",
    "  length = len(input_array)\n",
    "  for i in range(length):\n",
    "    input_array[i] *= 2\n",
    "  return input_array\n"
   ]
  },
  {
   "cell_type": "markdown",
   "metadata": {},
   "source": [
    "Space complexity is important to consider alongside time complexity when comparing data structures and algorithms. While two functions may have very similar runtimes, one could use less space. Consider the double_array() function from above. It has a runtime of O(n), and takes O(n) space. Could we optimize it to have a better space complexity?"
   ]
  }
 ],
 "metadata": {
  "kernelspec": {
   "display_name": "Python 3",
   "language": "python",
   "name": "python3"
  },
  "language_info": {
   "name": "python",
   "version": "3.11.5"
  }
 },
 "nbformat": 4,
 "nbformat_minor": 2
}
