{
 "cells": [
  {
   "cell_type": "markdown",
   "metadata": {},
   "source": [
    "# 1. Analyzing runtime"
   ]
  },
  {
   "cell_type": "code",
   "execution_count": 4,
   "metadata": {},
   "outputs": [
    {
     "name": "stdout",
     "output_type": "stream",
     "text": [
      "The while loop performs 0 iterations when N is 1\n",
      "\n",
      "The while loop performs 1 iterations when N is 2\n",
      "\n",
      "The while loop performs 2 iterations when N is 4\n",
      "\n",
      "The while loop performs 5 iterations when N is 32\n",
      "\n",
      "The while loop performs 6 iterations when N is 64\n",
      "\n",
      "The runtime for this function is O(log N)\n"
     ]
    }
   ],
   "source": [
    "def count(N):\n",
    "  count = 0\n",
    "  while N > 1:\n",
    "    N = N//2\n",
    "    count += 1\n",
    "  return count\n",
    "\n",
    "\n",
    "num_iterations_1 = 0 #REPLACE\n",
    "print(\"The while loop performs {0} iterations when N is 1\".format(num_iterations_1))\n",
    "\n",
    "num_iterations_2 = 1 #REPLACE\n",
    "print(\"\\nThe while loop performs {0} iterations when N is 2\".format(num_iterations_2))\n",
    "\n",
    "num_iterations_4 = 2 #REPLACE\n",
    "print(\"\\nThe while loop performs {0} iterations when N is 4\".format(num_iterations_4))\n",
    "\n",
    "num_iterations_32 = 5 #REPLACE\n",
    "print(\"\\nThe while loop performs {0} iterations when N is 32\".format(num_iterations_32))\n",
    "\n",
    "num_iterations_64 = 6 #REPLACE\n",
    "print(\"\\nThe while loop performs {0} iterations when N is 64\".format(num_iterations_64))\n",
    "\n",
    "runtime = \"log N\"\n",
    "print(\"\\nThe runtime for this function is O({0})\".format(runtime))\n",
    "\n",
    "\n",
    "\n",
    "\n",
    "\n"
   ]
  },
  {
   "cell_type": "markdown",
   "metadata": {},
   "source": [
    "# 2. Finding maximum value  in a list"
   ]
  },
  {
   "cell_type": "code",
   "execution_count": 5,
   "metadata": {},
   "outputs": [
    {
     "name": "stdout",
     "output_type": "stream",
     "text": [
      "--------------------------\n",
      "Finding the maximum value of:\n",
      "1\n",
      "2\n",
      "48\n",
      "-12\n",
      "32\n",
      "6\n",
      "\n",
      "The maximum value in this linked list is 48\n",
      "\n",
      "--------------------------\n",
      "Finding the maximum value of:\n",
      "-10\n",
      "22\n",
      "12\n",
      "60\n",
      "\n",
      "The maximum value in this linked list is 60\n",
      "\n",
      "--------------------------\n",
      "Finding the maximum value of:\n",
      "Q\n",
      "D\n",
      "L\n",
      "V\n",
      "X\n",
      "A\n",
      "\n",
      "The maximum value in this linked list is X\n",
      "\n",
      "The runtime of find_max is O(N)\n"
     ]
    }
   ],
   "source": [
    "from linkedlist import LinkedList\n",
    "\n",
    "#Fill in Function\n",
    "def find_max(linked_list):\n",
    "  print(\"--------------------------\")\n",
    "  print(\"Finding the maximum value of:\\n{0}\".format(linked_list.stringify_list()))\n",
    "  #Write Code Here\n",
    "  current_node = linked_list.head_node\n",
    "  maximum = current_node.get_value()\n",
    "  while current_node.get_next_node():\n",
    "    current_node = current_node.get_next_node()\n",
    "    if maximum < current_node.get_value():\n",
    "      maximum = current_node.get_value()\n",
    "    # print(current_node.get_value())\n",
    "  return maximum\n",
    "  \n",
    "#Test Cases\n",
    "ll = LinkedList(6)\n",
    "ll.insert_beginning(32)\n",
    "ll.insert_beginning(-12)\n",
    "ll.insert_beginning(48)\n",
    "ll.insert_beginning(2)\n",
    "ll.insert_beginning(1)\n",
    "print(\"The maximum value in this linked list is {0}\\n\".format(find_max(ll)))\n",
    "\n",
    "ll_2 = LinkedList(60)\n",
    "ll_2.insert_beginning(12)\n",
    "ll_2.insert_beginning(22)\n",
    "ll_2.insert_beginning(-10)\n",
    "print(\"The maximum value in this linked list is {0}\\n\".format(find_max(ll_2)))\n",
    "\n",
    "ll_3 = LinkedList(\"A\")\n",
    "ll_3.insert_beginning(\"X\")\n",
    "ll_3.insert_beginning(\"V\")\n",
    "ll_3.insert_beginning(\"L\")\n",
    "ll_3.insert_beginning(\"D\")\n",
    "ll_3.insert_beginning(\"Q\")\n",
    "print(\"The maximum value in this linked list is {0}\\n\".format(find_max(ll_3)))\n",
    "\n",
    "#Runtime\n",
    "runtime = \"N\"\n",
    "print(\"The runtime of find_max is O({0})\".format(runtime))"
   ]
  },
  {
   "cell_type": "markdown",
   "metadata": {},
   "source": [
    "# 3. Sorting a linkedlist"
   ]
  },
  {
   "cell_type": "code",
   "execution_count": 6,
   "metadata": {},
   "outputs": [
    {
     "name": "stdout",
     "output_type": "stream",
     "text": [
      "\n",
      "---------------------------\n",
      "The original linked list is:\n",
      "A\n",
      "Q\n",
      "C\n",
      "Z\n",
      "\n",
      "<class 'linkedlist.LinkedList'>\n",
      "The sorted linked list is:\n",
      "A\n",
      "C\n",
      "Q\n",
      "Z\n",
      "None\n",
      "\n",
      "\n",
      "---------------------------\n",
      "The original linked list is:\n",
      "7\n",
      "3\n",
      "2\n",
      "18\n",
      "4\n",
      "1\n",
      "\n",
      "<class 'linkedlist.LinkedList'>\n",
      "The sorted linked list is:\n",
      "1\n",
      "2\n",
      "3\n",
      "4\n",
      "7\n",
      "18\n",
      "None\n",
      "\n",
      "\n",
      "---------------------------\n",
      "The original linked list is:\n",
      "-92\n",
      "23\n",
      "1000\n",
      "118\n",
      "44\n",
      "-11\n",
      "\n",
      "<class 'linkedlist.LinkedList'>\n",
      "The sorted linked list is:\n",
      "-92\n",
      "-11\n",
      "23\n",
      "44\n",
      "118\n",
      "1000\n",
      "None\n",
      "\n",
      "The runtime of sort_linked_list is O(N^2)\n",
      "\n",
      "\n"
     ]
    }
   ],
   "source": [
    "from linkedlist import LinkedList\n",
    "\n",
    "def find_max(linked_list):\n",
    "  current = linked_list.get_head_node()\n",
    "  maximum = current.get_value()\n",
    "  while current.get_next_node():\n",
    "    current = current.get_next_node()\n",
    "    val = current.get_value()\n",
    "    if val > maximum:\n",
    "      maximum = val\n",
    "  return maximum\n",
    "\n",
    "#Fill in Function\n",
    "def sort_linked_list(linked_list):\n",
    "  print(\"\\n---------------------------\")\n",
    "  print(\"The original linked list is:\\n{0}\".format(linked_list.stringify_list()))\n",
    "  new_linked_list = LinkedList()\n",
    "  print(type(new_linked_list))\n",
    "  #Write Code Here!\n",
    "  while linked_list.get_head_node():\n",
    "    val = find_max(linked_list)\n",
    "    new_linked_list.insert_beginning(val)\n",
    "    linked_list.remove_node(val) \n",
    "  return new_linked_list\n",
    "\n",
    "#Test Cases\n",
    "ll = LinkedList(\"Z\")\n",
    "ll.insert_beginning(\"C\")\n",
    "ll.insert_beginning(\"Q\")\n",
    "ll.insert_beginning(\"A\")\n",
    "print(\"The sorted linked list is:\\n{0}\".format(sort_linked_list(ll).stringify_list()))\n",
    "\n",
    "ll_2 = LinkedList(1)\n",
    "ll_2.insert_beginning(4)\n",
    "ll_2.insert_beginning(18)\n",
    "ll_2.insert_beginning(2)\n",
    "ll_2.insert_beginning(3)\n",
    "ll_2.insert_beginning(7)\n",
    "print(\"The sorted linked list is:\\n{0}\".format(sort_linked_list(ll_2).stringify_list()))\n",
    "\n",
    "ll_3 = LinkedList(-11)\n",
    "ll_3.insert_beginning(44)\n",
    "ll_3.insert_beginning(118)\n",
    "ll_3.insert_beginning(1000)\n",
    "ll_3.insert_beginning(23)\n",
    "ll_3.insert_beginning(-92)\n",
    "print(\"The sorted linked list is:\\n{0}\".format(sort_linked_list(ll_3).stringify_list()))\n",
    "\n",
    "#Runtime\n",
    "runtime = \"N^2\" \n",
    "# worst case, max is always last means we iterate to the last item: iteration: 1st_it: N steps, 2nd_it: N-1 steps, 3rd_it: N-2 steps\n",
    "# this makes N + (N-1) + (N-2) + (N-3) + ... + 3 + 2 + 1\n",
    "# each time we add one elment to the input (N + 1) gets added to the runtime, the  runtime is literally: N*(N+1)/2 gaussian formula. Because Big O notation doesn't considers onyl the fastest growing term and no constants, we end upt writing O(N*(N+1)/2) = O(N^2)\n",
    "print(\"The runtime of sort_linked_list is O({0})\\n\\n\".format(runtime))"
   ]
  },
  {
   "cell_type": "markdown",
   "metadata": {},
   "source": [
    "# 4. Stacks vs Queues runtimes for peeking at first value"
   ]
  },
  {
   "cell_type": "code",
   "execution_count": 7,
   "metadata": {},
   "outputs": [
    {
     "name": "stdout",
     "output_type": "stream",
     "text": [
      "The top value in my stack is: Indonesia\n",
      "The front value of my queue is: Australia\n",
      "\n",
      "The first value enqueued to the queue was Australia\n",
      "The runtime of getting the front of the queue is O(1)\n",
      "\n",
      "The first value pushed onto the stack was Australia\n",
      "The runtime of getting the bottom of the stack is O(N)\n"
     ]
    }
   ],
   "source": [
    "from stack import Stack\n",
    "from queue_dir import Queue\n",
    "\n",
    "N = 6\n",
    "\n",
    "my_stack = Stack(N)\n",
    "my_stack.push(\"Australia\")\n",
    "my_stack.push(\"India\")\n",
    "my_stack.push(\"Costa Rica\")\n",
    "my_stack.push(\"Peru\")\n",
    "my_stack.push(\"Ghana\")\n",
    "my_stack.push(\"Indonesia\")\n",
    "\n",
    "my_queue = Queue(N)\n",
    "my_queue.enqueue(\"Australia\")\n",
    "my_queue.enqueue(\"India\")\n",
    "my_queue.enqueue(\"Costa Rica\")\n",
    "my_queue.enqueue(\"Peru\")\n",
    "my_queue.enqueue(\"Ghana\")\n",
    "my_queue.enqueue(\"Indonesia\")\n",
    "\n",
    "#Print the first values in the stack and queue\n",
    "print(\"The top value in my stack is: {0}\".format(my_stack.peek()))\n",
    "print(\"The front value of my queue is: {0}\".format(my_queue.peek()))\n",
    "\n",
    "#Get First Value added to Queue\n",
    "first_value_added_to_queue = my_queue.peek() #Checkpoint 2\n",
    "print(\"\\nThe first value enqueued to the queue was {0}\".format(first_value_added_to_queue))\n",
    "queue_runtime = \"1\" #Checkpoint 3\n",
    "print(\"The runtime of getting the front of the queue is O({0})\".format(queue_runtime))\n",
    "\n",
    "#Get First Value added to Stack\n",
    "while my_stack.size !=1:\n",
    "  my_stack.pop()\n",
    "first_val = my_stack.peek()\n",
    "#Write Code Here for #Checkpoint 4\n",
    "first_value_added_to_stack = first_val\n",
    "print(\"\\nThe first value pushed onto the stack was {0}\".format(first_value_added_to_stack))\n",
    "stack_runtime = \"N\" #Checkpoint 5\n",
    "print(\"The runtime of getting the bottom of the stack is O({0})\".format(stack_runtime))"
   ]
  },
  {
   "cell_type": "markdown",
   "metadata": {},
   "source": [
    "# 5. HashMaps vs LinkedLists -  getting the first value"
   ]
  },
  {
   "cell_type": "code",
   "execution_count": 10,
   "metadata": {},
   "outputs": [
    {
     "name": "stdout",
     "output_type": "stream",
     "text": [
      "Zachary's disease is Sunburn Sickness\n",
      "The runtime of retrieving a value from a hashmap is O(1)\n",
      "\n",
      "\n",
      "Zachary's disease is Sunburn Sickness\n",
      "The runtime of retrieving the first value added to a linked list is O(N)\n",
      "\n",
      "\n"
     ]
    }
   ],
   "source": [
    "from hashmap_dir import HashMap\n",
    "from linkedlist_dir import LinkedList\n",
    "\n",
    "N = 6\n",
    "\n",
    "#Insert Data Into HashMap\n",
    "my_hashmap = HashMap(N)\n",
    "my_hashmap.assign(\"Zachary\", \"Sunburn Sickness\")\n",
    "my_hashmap.assign(\"Elise\", \"Severe Nausea\")\n",
    "my_hashmap.assign(\"Mimi\", \"Stomach Flu\")\n",
    "my_hashmap.assign(\"Devan\", \"Malaria\")\n",
    "my_hashmap.assign(\"Gary\", \"Bacterial Meningitis\")\n",
    "my_hashmap.assign(\"Neeknaz\", \"Broken Cheekbone\")\n",
    "\n",
    "#Insert Data into LinkedList\n",
    "my_linked_list = LinkedList([\"Zachary\", \"Sunburn Sickness\"])\n",
    "my_linked_list.insert_beginning([\"Elise\", \"Severe Nausea\"])\n",
    "my_linked_list.insert_beginning([\"Mimi\", \"Stomach Flu\"])\n",
    "my_linked_list.insert_beginning([\"Devan\", \"Malaria\"])\n",
    "my_linked_list.insert_beginning([\"Gary\", \"Bacterial Meningitis\"])\n",
    "my_linked_list.insert_beginning([\"Neeknaz\", \"Broken Cheekbone\"])\n",
    "\n",
    "#Get Zachary's Disease from a HashMap\n",
    "hashmap_zachary_disease = my_hashmap.retrieve(\"Zachary\") #Checkpoint 1\n",
    "print(\"Zachary's disease is {0}\".format(hashmap_zachary_disease))\n",
    "hashmap_runtime = \"1\" #Checkpoint 2\n",
    "print(\"The runtime of retrieving a value from a hashmap is O({0})\\n\\n\".format(hashmap_runtime))\n",
    "\n",
    "\n",
    "#Get Zachary's Disease from a Linked List\n",
    "#Write Code here for Checkpoint 3\n",
    "current_node = my_linked_list.head_node\n",
    "while current_node.get_next_node() != None: \n",
    "  current_node = current_node.get_next_node()\n",
    "val = current_node.get_value()[1]\n",
    "\n",
    "linked_list_zachary_disease = val\n",
    "print(\"Zachary's disease is {0}\".format(linked_list_zachary_disease))\n",
    "linked_list_runtime = \"N\" #Checkpoint 4\n",
    "print(\"The runtime of retrieving the first value added to a linked list is O({0})\\n\\n\".format(linked_list_runtime))\n",
    "\n"
   ]
  },
  {
   "cell_type": "markdown",
   "metadata": {},
   "source": [
    "# 6. Big O advantages of recursion"
   ]
  },
  {
   "cell_type": "markdown",
   "metadata": {},
   "source": [
    "## 6.1 Simulations of recursion for visualization of runtimes and  space complexity"
   ]
  },
  {
   "cell_type": "markdown",
   "metadata": {},
   "source": [
    "#### 6.1.1 Space - complexity and Call Stack Simulation "
   ]
  },
  {
   "cell_type": "code",
   "execution_count": 8,
   "metadata": {},
   "outputs": [
    {
     "name": "stdout",
     "output_type": "stream",
     "text": [
      "Call Stack is [{'n_value': 4}]\n",
      "Call Stack is [{'n_value': 4}, {'n_value': 3}]\n",
      "Call Stack is [{'n_value': 4}, {'n_value': 3}, {'n_value': 2}]\n",
      "BASE CASE REACHED\n",
      "Call Stack is [{'n_value': 4}, {'n_value': 3}, {'n_value': 2}]\n",
      "Call Stack is [{'n_value': 4}, {'n_value': 3}]\n",
      "Call Stack is [{'n_value': 4}]\n",
      "(10, [])\n"
     ]
    }
   ],
   "source": [
    "# space complexity: N 1 + 2 + 3 + ... + N = N * (N + 1) /2 = O(N^2)\n",
    "\n",
    "def sum_to_one(n):\n",
    "  result = 1\n",
    "  call_stack = []\n",
    "  \n",
    "  while n != 1:\n",
    "    execution_context = {\"n_value\": n}\n",
    "    call_stack.append(execution_context)\n",
    "    n -= 1\n",
    "    print('Call Stack is', call_stack)\n",
    "  print(\"BASE CASE REACHED\")\n",
    "\n",
    "  while call_stack:\n",
    "    return_value = call_stack[-1]\n",
    "    print('Call Stack is', call_stack)\n",
    "    del call_stack[-1]\n",
    "    # print(f'adding return_value \"{return_value[\"n_value\"]}\" to result')\n",
    "    result += return_value[\"n_value\"]\n",
    "  return result, call_stack\n",
    "\n",
    "print(sum_to_one(4))"
   ]
  },
  {
   "cell_type": "code",
   "execution_count": null,
   "metadata": {},
   "outputs": [],
   "source": [
    "def sum_to_one(n):\n",
    "  if n == 1:\n",
    "    return n, str(n)\n",
    "  print(\"Loading Call Stack with: {0}\".format(n))\n",
    "  return sum_to_one(n - 1)[0] + n, print(\"Deloading Call Stack with: {0}\".format(n))\n",
    "\n",
    "# uncomment when you're ready to test\n",
    "print(sum_to_one(7))"
   ]
  },
  {
   "cell_type": "markdown",
   "metadata": {},
   "source": [
    "#### Fibonacci"
   ]
  },
  {
   "cell_type": "code",
   "execution_count": 10,
   "metadata": {},
   "outputs": [
    {
     "name": "stdout",
     "output_type": "stream",
     "text": [
      "This is  the actual n  8\n",
      "This is  the actual n  6\n",
      "This is  the actual n  4\n",
      "This is  the actual n  2\n",
      "This is  the actual n  3\n",
      "This is  the actual n  2\n",
      "This is  the actual n  5\n",
      "This is  the actual n  3\n",
      "This is  the actual n  2\n",
      "This is  the actual n  4\n",
      "This is  the actual n  2\n",
      "This is  the actual n  3\n",
      "This is  the actual n  2\n",
      "This is  the actual n  7\n",
      "This is  the actual n  5\n",
      "This is  the actual n  3\n",
      "This is  the actual n  2\n",
      "This is  the actual n  4\n",
      "This is  the actual n  2\n",
      "This is  the actual n  3\n",
      "This is  the actual n  2\n",
      "This is  the actual n  6\n",
      "This is  the actual n  4\n",
      "This is  the actual n  2\n",
      "This is  the actual n  3\n",
      "This is  the actual n  2\n",
      "This is  the actual n  5\n",
      "This is  the actual n  3\n",
      "This is  the actual n  2\n",
      "This is  the actual n  4\n",
      "This is  the actual n  2\n",
      "This is  the actual n  3\n",
      "This is  the actual n  2\n",
      "21\n",
      "\n",
      " some space  needed \n",
      "\n",
      "This is  the actual n  7\n",
      "This is  the actual n  5\n",
      "This is  the actual n  3\n",
      "This is  the actual n  2\n",
      "This is  the actual n  4\n",
      "This is  the actual n  2\n",
      "This is  the actual n  3\n",
      "This is  the actual n  2\n",
      "This is  the actual n  6\n",
      "This is  the actual n  4\n",
      "This is  the actual n  2\n",
      "This is  the actual n  3\n",
      "This is  the actual n  2\n",
      "This is  the actual n  5\n",
      "This is  the actual n  3\n",
      "This is  the actual n  2\n",
      "This is  the actual n  4\n",
      "This is  the actual n  2\n",
      "This is  the actual n  3\n",
      "This is  the actual n  2\n",
      "13\n",
      "\n",
      " some space  needed \n",
      "\n",
      "This is  the actual n  6\n",
      "This is  the actual n  4\n",
      "This is  the actual n  2\n",
      "This is  the actual n  3\n",
      "This is  the actual n  2\n",
      "This is  the actual n  5\n",
      "This is  the actual n  3\n",
      "This is  the actual n  2\n",
      "This is  the actual n  4\n",
      "This is  the actual n  2\n",
      "This is  the actual n  3\n",
      "This is  the actual n  2\n",
      "8\n",
      "\n",
      " some space  needed \n",
      "\n",
      "This is  the actual n  5\n",
      "This is  the actual n  3\n",
      "This is  the actual n  2\n",
      "This is  the actual n  4\n",
      "This is  the actual n  2\n",
      "This is  the actual n  3\n",
      "This is  the actual n  2\n",
      "5\n",
      "\n",
      " some space  needed \n",
      "\n",
      "This is  the actual n  4\n",
      "This is  the actual n  2\n",
      "This is  the actual n  3\n",
      "This is  the actual n  2\n",
      "3\n",
      "\n",
      " some space  needed \n",
      "\n",
      "This is  the actual n  3\n",
      "This is  the actual n  2\n",
      "2\n"
     ]
    },
    {
     "data": {
      "image/png": "[encoded data removed]",
      "text/plain": [
       "<IPython.core.display.Image object>"
      ]
     },
     "execution_count": 10,
     "metadata": {},
     "output_type": "execute_result"
    }
   ],
   "source": [
    "# set the appropriate runtime:\n",
    "# runtime: Exponential - O(2^N)\n",
    "\n",
    "# define the fibonacci() function below...\n",
    "def fibonacci(n):\n",
    "  if n == 1:\n",
    "    return 1\n",
    "  if n == 0:\n",
    "    return 0\n",
    "  print('This is  the actual n ', n)\n",
    "  return fibonacci(n - 2) + fibonacci(n - 1)  # this is the  recursive step invoking 2 recursive calls\n",
    "\n",
    "\n",
    "print(fibonacci(8))\n",
    "print('\\n some space  needed \\n')\n",
    "print(fibonacci(7))\n",
    "print('\\n some space  needed \\n')\n",
    "print(fibonacci(6))\n",
    "print('\\n some space  needed \\n')\n",
    "print(fibonacci(5))\n",
    "print('\\n some space  needed \\n')\n",
    "print(fibonacci(4))\n",
    "print('\\n some space  needed \\n')\n",
    "print(fibonacci(3))\n",
    "\n",
    "from IPython.display import Image\n",
    "Image(\"runtime_fibonacci_recursion.png\")\n"
   ]
  },
  {
   "cell_type": "markdown",
   "metadata": {},
   "source": [
    "#### Power Set"
   ]
  },
  {
   "cell_type": "code",
   "execution_count": 3,
   "metadata": {},
   "outputs": [
    {
     "name": "stdout",
     "output_type": "stream",
     "text": [
      "['MIT', 'UCLA', 'Stanford', 'NYU', 'GSU']\n",
      "['MIT', 'UCLA', 'Stanford', 'NYU']\n",
      "['MIT', 'UCLA', 'Stanford', 'GSU']\n",
      "['MIT', 'UCLA', 'Stanford']\n",
      "['MIT', 'UCLA', 'NYU', 'GSU']\n",
      "['MIT', 'UCLA', 'NYU']\n",
      "['MIT', 'UCLA', 'GSU']\n",
      "['MIT', 'UCLA']\n",
      "['MIT', 'Stanford', 'NYU', 'GSU']\n",
      "['MIT', 'Stanford', 'NYU']\n",
      "['MIT', 'Stanford', 'GSU']\n",
      "['MIT', 'Stanford']\n",
      "['MIT', 'NYU', 'GSU']\n",
      "['MIT', 'NYU']\n",
      "['MIT', 'GSU']\n",
      "['MIT']\n",
      "['UCLA', 'Stanford', 'NYU', 'GSU']\n",
      "['UCLA', 'Stanford', 'NYU']\n",
      "['UCLA', 'Stanford', 'GSU']\n",
      "['UCLA', 'Stanford']\n",
      "['UCLA', 'NYU', 'GSU']\n",
      "['UCLA', 'NYU']\n",
      "['UCLA', 'GSU']\n",
      "['UCLA']\n",
      "['Stanford', 'NYU', 'GSU']\n",
      "['Stanford', 'NYU']\n",
      "['Stanford', 'GSU']\n",
      "['Stanford']\n",
      "['NYU', 'GSU']\n",
      "['NYU']\n",
      "['GSU']\n",
      "[]\n"
     ]
    }
   ],
   "source": [
    "# runtime: N function calls for every element in the List ((1)) makes O(N) time complexity\n",
    "# space complexity: call stack of N layers each containing one function call\n",
    "\n",
    "def power_set(my_list):\n",
    "    # base case: an empty list\n",
    "    if len(my_list) == 0:\n",
    "        return [[]]\n",
    "    \n",
    "    # recursive step: subsets without first element\n",
    "    power_set_without_first = power_set(my_list[1:]) # function call ((1))\n",
    "    # here the call stack gets loaded\n",
    "    # only after deloading this script continues\n",
    "\n",
    "\n",
    "    # subsets with first element\n",
    "    with_first = [ [my_list[0]] + rest for rest in power_set_without_first ]\n",
    "    # return combination of the two\n",
    "    return with_first + power_set_without_first\n",
    "  \n",
    "universities = ['MIT', 'UCLA', 'Stanford', 'NYU']\n",
    "power_set_of_universities = power_set (universities+ ['GSU'])#, 'UzK'])\n",
    "\n",
    "for set in power_set_of_universities:\n",
    "  print(set)"
   ]
  },
  {
   "cell_type": "markdown",
   "metadata": {},
   "source": [
    "#### "
   ]
  },
  {
   "cell_type": "markdown",
   "metadata": {},
   "source": [
    "## 6.2 Runtime examples of recursion vs iteration"
   ]
  },
  {
   "cell_type": "markdown",
   "metadata": {},
   "source": [
    "### 6.2.1 Palindrome identification"
   ]
  },
  {
   "cell_type": "code",
   "execution_count": 54,
   "metadata": {},
   "outputs": [
    {
     "name": "stdout",
     "output_type": "stream",
     "text": [
      "True\n",
      "True\n",
      "True\n",
      "False\n"
     ]
    }
   ],
   "source": [
    "# iterable\n",
    "''' runtime: O(N)\n",
    "In each iteration we make a copy of the list with N elements,\n",
    "each copy has two fewer elements than the original copy.\n",
    "So we have N//2 iterations that makes O(N/2) simplification rules give us O(N).\n",
    "\n",
    "\n",
    "space complexity: O(N^2)\n",
    "in each iteration we make a \"reduced copy\" of the str with N elements,\n",
    "each copy has two fewer elements than the original copy:\n",
    "O() = N + (N-2) + (N-4) + (N-6) + ... and so on\n",
    "Replace N = 2P and Check\n",
    "P + (P-1) + (P-2) + (P-3) + ... = P*(P+1)/2 = P^2/2 + P/2\n",
    "Multiply the sequence by two:\n",
    "2P + (2P-2) + (2P-4) + (2P-6) + ... = 2 * (P^2/2 + P/2) = P^2 + P\n",
    "Substitute P = N/2\n",
    "N + (N-2) + (N-4) + (N-6) + ... ) = (N/2)^2 + N/2 = N^2/4 + N/2\n",
    "\n",
    "This makes a runtime of O(N^2)\n",
    "\n",
    "'''\n",
    "def is_palindrome(my_string):\n",
    "  while len(my_string) > 1:\n",
    "    if my_string[0] != my_string[-1]:\n",
    "      return False\n",
    "    my_string = my_string[1:-1]\n",
    "  return True \n",
    "\n",
    "print(is_palindrome(\"abba\"))\n",
    "# True\n",
    "print(is_palindrome(\"abcba\"))\n",
    "# True\n",
    "print(is_palindrome(\"\"))\n",
    "# True\n",
    "print(is_palindrome(\"abcd\"))\n",
    "# False"
   ]
  },
  {
   "cell_type": "code",
   "execution_count": 53,
   "metadata": {},
   "outputs": [
    {
     "name": "stdout",
     "output_type": "stream",
     "text": [
      "True\n",
      "True\n",
      "True\n",
      "True\n"
     ]
    }
   ],
   "source": [
    "# recursion:\n",
    "'''\n",
    "runtime: O() =\n",
    "the recursion calls itself N/2 times where N is thenumber of elements in the List.\n",
    "This gives as N//2 recursive function calls and a O(N//2).\n",
    "Simpification rules deliver us O(N)\n",
    "\n",
    "space complexity\n",
    "We have Call Stack with the same layers as function calls N//2.\n",
    "Now\n",
    "prior to the function call, two elements of the list have already been compared.\n",
    "after that the rest of the list is passed to the next function call.\n",
    "Does this mean that...\n",
    "\n",
    "(option 1):\n",
    "...the execution environment of every function call has exactly two variables\n",
    "namely str[0] and str[-1] so we get a space complexity of N * 2 = 2N\n",
    "so the simplifaction rules give us O(N) for space complexity. Or does it mean,\n",
    "that...\n",
    "\n",
    "(option 2):\n",
    ".... the sliced list get's passed to the next function call\n",
    "givin a space complexity of N + (N-2) + (N-4) + (N-6) + ...\n",
    "delivering a space complexity of O(N^2) like the iterable version?\n",
    "\n",
    "'''\n",
    "def is_palindrome(str):\n",
    "  if len(str) < 2:\n",
    "    return True\n",
    "  if str[0] != str[-1]:\n",
    "    return False\n",
    "  return is_palindrome(str[1:-1])\n",
    "\n",
    "\n",
    "# test cases\n",
    "print(is_palindrome(\"abba\") == True)\n",
    "print(is_palindrome(\"abcba\") == True)\n",
    "print(is_palindrome(\"\") == True)\n",
    "print(is_palindrome(\"abcd\") == False)"
   ]
  },
  {
   "cell_type": "markdown",
   "metadata": {},
   "source": [
    "## 6.3 Recursion with memoization (a caching technique): Example of Fibonacci function"
   ]
  },
  {
   "cell_type": "code",
   "execution_count": 9,
   "metadata": {},
   "outputs": [
    {
     "name": "stdout",
     "output_type": "stream",
     "text": [
      "39088169\n"
     ]
    }
   ],
   "source": [
    "# fibonacci without cache\n",
    "def fibonacci(n):\n",
    "  if n <= 1:\n",
    "    return n\n",
    "  return fibonacci(n-1) + fibonacci(n-2)\n",
    "\n",
    "# print(fibonacci(33))\n",
    "# check different times from 33 up to 38\n",
    "print(fibonacci(38))"
   ]
  },
  {
   "cell_type": "markdown",
   "metadata": {},
   "source": [
    "# CORRECT BELOW:\n",
    "use a dictionary to prescind from numpy!"
   ]
  },
  {
   "cell_type": "code",
   "execution_count": 6,
   "metadata": {},
   "outputs": [
    {
     "name": "stdout",
     "output_type": "stream",
     "text": [
      "4.346655768693743e+208\n"
     ]
    }
   ],
   "source": [
    "''' define fibonacciCall() as a nested function\n",
    "the fibonacciCache in the outer function is outside the scope of the recursive calls of the fibonacci function.\n",
    "\n",
    "the recursions happen within the scope of the inner functions is accessed by the function calls o \n",
    "'''\n",
    "import numpy as np\n",
    "\n",
    "\n",
    "def fibonacci_call(n):\n",
    "  fibonacci_Cache = np.zeros((n+1),float) # due to the size of the numbers float instead of int\n",
    "\n",
    "  def fibonacci(n):\n",
    "    if n <= 1:\n",
    "      return n\n",
    "\n",
    "    if fibonacci_Cache[n] != 0.0:\n",
    "      return fibonacci_Cache[n]\n",
    "    \n",
    "    nth_fibonacci = fibonacci(n-1) + fibonacci(n-2)\n",
    "\n",
    "    fibonacci_Cache[n] = nth_fibonacci\n",
    "\n",
    "    return nth_fibonacci\n",
    "  \n",
    "  return fibonacci(n)\n",
    "\n",
    "print(fibonacci_call(1000))\n",
    "     "
   ]
  },
  {
   "cell_type": "markdown",
   "metadata": {},
   "source": [
    "## 6.4 Use cases of recursion"
   ]
  },
  {
   "cell_type": "markdown",
   "metadata": {},
   "source": [
    "## 6.3.1 flatten a list"
   ]
  },
  {
   "cell_type": "markdown",
   "metadata": {},
   "source": [
    "### 6.3.1 - Approaches"
   ]
  },
  {
   "cell_type": "code",
   "execution_count": 31,
   "metadata": {},
   "outputs": [
    {
     "name": "stdout",
     "output_type": "stream",
     "text": [
      "List found! [1, 2, 3]\n",
      "List found! [4, 5, 6]\n",
      "List found! [7]\n",
      "List found! [8, 9]\n",
      "[1, 2, 3, 4, 5, 6, 7, 8, 9]\n"
     ]
    }
   ],
   "source": [
    "'''\n",
    "flatten a list\n",
    "'''\n",
    "\n",
    "# define flatten() below...\n",
    "\n",
    "def flatten_rec(my_list):\n",
    "  result = []\n",
    "  for element in my_list:\n",
    "    if isinstance(element, list):\n",
    "      print(\"List found!\", element)\n",
    "      flat_list = flatten_rec(element)\n",
    "      result += flat_list \n",
    "    else:\n",
    "      result.append(element)\n",
    "\n",
    "  return result\n",
    "\n",
    "# ## reserve for testing...\n",
    "# planets = ['mercury', 'venus', ['earth'], 'mars', [['jupiter', 'saturn']], 'uranus', ['neptune', 'pluto']]\n",
    "\n",
    "# print(flatten_rec(planets))\n",
    "\n",
    "list_o_list_int = [[1, 2, 3], [4, 5, 6],[7], [8, 9]]\n",
    "print(flatten_rec(list_o_list_int))"
   ]
  },
  {
   "cell_type": "code",
   "execution_count": 49,
   "metadata": {},
   "outputs": [
    {
     "name": "stdout",
     "output_type": "stream",
     "text": [
      "['m', 'e', 'r', 'c', 'u', 'r', 'y', 'v', 'e', 'n', 'u', 's', 'earth', 'm', 'a', 'r', 's', ['jupiter', 'saturn'], 'u', 'r', 'a', 'n', 'u', 's', 'neptune', 'pluto']\n"
     ]
    }
   ],
   "source": [
    "# only applicable for lists nested up to one level deep\n",
    "\n",
    "def flatten_list_comp(list):\n",
    "    return [x for element in list for x in element]\n",
    "\n",
    "### reserve for testing...\n",
    "planets = ['mercury', 'venus', ['earth'], 'mars', [['jupiter', 'saturn']], 'uranus', ['neptune', 'pluto']]\n",
    "print(flatten_list_comp(planets))\n",
    "\n",
    "# list_o_list_int = [[1, 2, 3], [4, 5, 6],[7], [8, 9]]\n",
    "# print(flatten_list_comp(list_o_list_int))"
   ]
  },
  {
   "cell_type": "code",
   "execution_count": 25,
   "metadata": {},
   "outputs": [
    {
     "name": "stdout",
     "output_type": "stream",
     "text": [
      "[1, 2, 3, 4, 5, 6, 7, 8, 9]\n"
     ]
    }
   ],
   "source": [
    "# only applicable for lists nested up to one level deep\n",
    "\n",
    "def flatten_sum(list):\n",
    "    return sum(list, [])\n",
    "\n",
    "### reserve for testing...\n",
    "planets = ['mercury', 'venus', ['earth'], 'mars', [['jupiter', 'saturn']], 'uranus', ['neptune', 'pluto']]\n",
    "\n",
    "# print(flatten_sum(planets))\n",
    "\n",
    "list_o_list_int = [[1, 2, 3], [4, 5, 6],[7], [8, 9]]\n",
    "print(flatten_sum(list_o_list_int))"
   ]
  },
  {
   "cell_type": "code",
   "execution_count": 21,
   "metadata": {},
   "outputs": [
    {
     "name": "stdout",
     "output_type": "stream",
     "text": [
      "[1, 2, 3, 4, 5, 6, 7, 8, 9]\n"
     ]
    }
   ],
   "source": [
    "from functools import reduce\n",
    "\n",
    "def flatten_reduce_lambda(list):\n",
    "    return reduce(lambda xs, ys: xs + ys, list)\n",
    "\n",
    "### reserve for testing...\n",
    "planets = ['mercury', 'venus', ['earth'], 'mars', [['jupiter', 'saturn']], 'uranus', ['neptune', 'pluto']]\n",
    "\n",
    "# print(flatten_reduce_lambda(planets))\n",
    "\n",
    "list_o_list_int = [[1, 2, 3], [4, 5, 6],[7], [8, 9]]\n",
    "print(flatten_reduce_lambda(list_o_list_int))"
   ]
  },
  {
   "cell_type": "markdown",
   "metadata": {},
   "source": [
    "### 6.3.1 - Performance comparisons"
   ]
  },
  {
   "cell_type": "code",
   "execution_count": 39,
   "metadata": {},
   "outputs": [
    {
     "name": "stdout",
     "output_type": "stream",
     "text": [
      "17.9 ns ± 0.199 ns per loop (mean ± std. dev. of 7 runs, 100,000,000 loops each)\n"
     ]
    }
   ],
   "source": [
    "%%timeit\n",
    "flatten_reduce_lambda"
   ]
  },
  {
   "cell_type": "code",
   "execution_count": 40,
   "metadata": {},
   "outputs": [
    {
     "name": "stdout",
     "output_type": "stream",
     "text": [
      "17.9 ns ± 0.12 ns per loop (mean ± std. dev. of 7 runs, 100,000,000 loops each)\n"
     ]
    }
   ],
   "source": [
    "%%timeit\n",
    "flatten_sum"
   ]
  },
  {
   "cell_type": "code",
   "execution_count": 41,
   "metadata": {},
   "outputs": [
    {
     "name": "stdout",
     "output_type": "stream",
     "text": [
      "17.8 ns ± 0.114 ns per loop (mean ± std. dev. of 7 runs, 100,000,000 loops each)\n"
     ]
    }
   ],
   "source": [
    "%%timeit\n",
    "flatten_list_comp"
   ]
  },
  {
   "cell_type": "code",
   "execution_count": 43,
   "metadata": {},
   "outputs": [
    {
     "name": "stdout",
     "output_type": "stream",
     "text": [
      "17.8 ns ± 0.0761 ns per loop (mean ± std. dev. of 7 runs, 100,000,000 loops each)\n"
     ]
    }
   ],
   "source": [
    "%%timeit\n",
    "flatten_rec"
   ]
  },
  {
   "cell_type": "markdown",
   "metadata": {},
   "source": [
    "### 6.3.1 Extras"
   ]
  },
  {
   "cell_type": "code",
   "execution_count": 46,
   "metadata": {},
   "outputs": [
    {
     "name": "stdout",
     "output_type": "stream",
     "text": [
      "['mercury', 'venus', 'earth', 'mars', 'jupiter', 'saturn', 'uranus', 'neptune', 'pluto']\n",
      "[1, 2, 3, 4, 5, 6, 7, 8, 9]\n"
     ]
    }
   ],
   "source": [
    "from typing import Iterable \n",
    "#from collections import Iterable                            # < py38\n",
    "\n",
    "\n",
    "def flatten_iter(items):\n",
    "    \"\"\"Yield items from any nested iterable; see Reference.\"\"\"\n",
    "    for x in items:\n",
    "        if isinstance(x, Iterable) and not isinstance(x, (str, bytes)):\n",
    "            for sub_x in flatten_iter(x):\n",
    "                yield sub_x\n",
    "        else:\n",
    "            yield x\n",
    "\n",
    "### reserve for testing...\n",
    "planets = ['mercury', 'venus', ['earth'], 'mars', [['jupiter', 'saturn']], 'uranus', ['neptune', 'pluto']]\n",
    "\n",
    "print([x for x in flatten_iter(planets)])\n",
    "\n",
    "list_o_list_int = [[1, 2, 3], [4, 5, 6],[7], [8, 9]]\n",
    "print([x for x in flatten_iter(list_o_list_int)])"
   ]
  },
  {
   "cell_type": "code",
   "execution_count": 48,
   "metadata": {},
   "outputs": [
    {
     "name": "stdout",
     "output_type": "stream",
     "text": [
      "19 ns ± 0.207 ns per loop (mean ± std. dev. of 7 runs, 100,000,000 loops each)\n"
     ]
    }
   ],
   "source": [
    "%%timeit\n",
    "flatten_iter"
   ]
  },
  {
   "cell_type": "markdown",
   "metadata": {},
   "source": [
    "## 6.x"
   ]
  },
  {
   "cell_type": "markdown",
   "metadata": {},
   "source": []
  }
 ],
 "metadata": {
  "kernelspec": {
   "display_name": "Python 3",
   "language": "python",
   "name": "python3"
  },
  "language_info": {
   "codemirror_mode": {
    "name": "ipython",
    "version": 3
   },
   "file_extension": ".py",
   "mimetype": "text/x-python",
   "name": "python",
   "nbconvert_exporter": "python",
   "pygments_lexer": "ipython3",
   "version": "3.9.15"
  }
 },
 "nbformat": 4,
 "nbformat_minor": 2
}
