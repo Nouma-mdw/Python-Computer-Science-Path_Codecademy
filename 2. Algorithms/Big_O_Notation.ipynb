{
 "cells": [
  {
   "cell_type": "markdown",
   "id": "522b9480-e6c0-4d21-beaf-36833be9e01b",
   "metadata": {
    "tags": []
   },
   "source": [
    "# 1. Quick Review/Introduction to concepts of Big O notation"
   ]
  },
  {
   "cell_type": "markdown",
   "id": "d31ce5de-1627-4b6e-b376-3420635a6e97",
   "metadata": {},
   "source": [
    "##### How to notice time complexity?\n",
    "To make you sensible to the concept of time complexity, the following  code is  there for you to run.\n",
    "Please run the statements in the first trial"
   ]
  },
  {
   "cell_type": "markdown",
   "id": "70afc994-586a-462c-9408-f7b268a4d176",
   "metadata": {
    "jp-MarkdownHeadingCollapsed": true,
    "tags": []
   },
   "source": [
    "### First trial\n",
    "This first trial is all about just comparing the results of the different code snippets."
   ]
  },
  {
   "cell_type": "code",
   "execution_count": 91,
   "id": "c7377656-71f7-4226-b029-769171efdb58",
   "metadata": {},
   "outputs": [
    {
     "data": {
      "text/plain": [
       "12"
      ]
     },
     "execution_count": 91,
     "metadata": {},
     "output_type": "execute_result"
    }
   ],
   "source": [
    "string = \"Hello World!\"\n",
    "len(string)"
   ]
  },
  {
   "cell_type": "code",
   "execution_count": 92,
   "id": "d9236dad-c787-4b7a-a724-938fbcbd7e94",
   "metadata": {},
   "outputs": [
    {
     "name": "stdout",
     "output_type": "stream",
     "text": [
      "Hello World!\n"
     ]
    }
   ],
   "source": [
    "# Code 1\n",
    "print(string)"
   ]
  },
  {
   "cell_type": "code",
   "execution_count": 59,
   "id": "4f49cec0-ec25-41c0-a6ed-ee965ab0b1d0",
   "metadata": {},
   "outputs": [
    {
     "name": "stdout",
     "output_type": "stream",
     "text": [
      "Hello World!"
     ]
    }
   ],
   "source": [
    "# Code 2\n",
    "for symbol in string:\n",
    "    print(symbol, end = \"\")"
   ]
  },
  {
   "cell_type": "code",
   "execution_count": 97,
   "id": "460b23ea-960f-40f7-b060-2a120410cf81",
   "metadata": {},
   "outputs": [
    {
     "name": "stdout",
     "output_type": "stream",
     "text": [
      "Hello World!\n"
     ]
    }
   ],
   "source": [
    "# Code 3\n",
    "def complex_print(str):\n",
    "    \n",
    "    # base case\n",
    "    if len(str) == 1:\n",
    "        print(str[-1])\n",
    "        \n",
    "    # recursive step\n",
    "    else:\n",
    "        print(str[0], end = \"\")\n",
    "        complex_print(str[1:])\n",
    "    \n",
    "complex_print(string)  "
   ]
  },
  {
   "cell_type": "code",
   "execution_count": 95,
   "id": "f0890b92-d31a-4e15-9c7f-2128e4016317",
   "metadata": {},
   "outputs": [
    {
     "name": "stdout",
     "output_type": "stream",
     "text": [
      "Hello World!"
     ]
    }
   ],
   "source": [
    "# Code 4\n",
    "def complex_print_2(str):\n",
    "    \n",
    "    # base case\n",
    "    if len(str) == 1:\n",
    "        print(str[0], end = \"\")\n",
    "\n",
    "    # recursive step\n",
    "    else:\n",
    "        complex_print_2(str[:-1])\n",
    "        print(str[-1], end = \"\")\n",
    "        \n",
    "    \n",
    "complex_print_2(string)  "
   ]
  },
  {
   "cell_type": "code",
   "execution_count": 103,
   "id": "d6a7005a-aa36-4564-8555-fb704fe0a1b0",
   "metadata": {},
   "outputs": [
    {
     "name": "stdout",
     "output_type": "stream",
     "text": [
      "Hello World!"
     ]
    }
   ],
   "source": [
    "# Code 5\n",
    "def really_complex_print(str):\n",
    "    \n",
    "    # base case\n",
    "    if len(str) == 1:\n",
    "        print(str[0], end = \"\")\n",
    "        \n",
    "    # recursive step\n",
    "    else:\n",
    "        l_ = len(str)\n",
    "        h = l_//2\n",
    "        really_complex_print(str[:h])\n",
    "        really_complex_print(str[h:])\n",
    "        # I have absolutly no idea the code in this else statement is enough\n",
    "        # when I outcomment the print statements in the else statements of code 3 and 4 \n",
    "        # there only the last or the  first letter get printed. Can you help me out?\n",
    "    \n",
    "really_complex_print(string) "
   ]
  },
  {
   "cell_type": "markdown",
   "id": "5c47e2b3-c43d-42ee-8150-41954699650c",
   "metadata": {
    "jp-MarkdownHeadingCollapsed": true,
    "tags": []
   },
   "source": [
    "### Second trial\n",
    "In this second trial, you know allready, that all code snippets deliver the same results.\n",
    "We are gonna measure the difference in time execution using the \"python magic function\" %%timeit.\n",
    "For you to check if there are differences. In case there are, can you make out a pattern?"
   ]
  },
  {
   "cell_type": "markdown",
   "id": "852394e0-65c2-4b23-9720-efb2a23149ea",
   "metadata": {
    "tags": []
   },
   "source": [
    "##### Technical comments - to skip in the first reading\n",
    "1) Note, to keep the output clean and readable, the print statement has been outcommented and instead replaced by a variable definition statement. \n",
    "2) Otherwise the iterations of the %%timeit function would run so many print statements, that output would be filled with pages and pages of the printed string. (For more information see %%timeit documentation)\n",
    "3) Replacing the print statement allows you to directly see the result of the timeit function."
   ]
  },
  {
   "cell_type": "code",
   "execution_count": 99,
   "id": "9bf67008-a8c8-4530-a581-32df5db9d138",
   "metadata": {},
   "outputs": [
    {
     "name": "stdout",
     "output_type": "stream",
     "text": [
      "18.9 ns ± 0.126 ns per loop (mean ± std. dev. of 7 runs, 100,000,000 loops each)\n"
     ]
    }
   ],
   "source": [
    "%%timeit\n",
    "# Code 1\n",
    "# print(string)\n",
    "var = string"
   ]
  },
  {
   "cell_type": "code",
   "execution_count": 134,
   "id": "67fd80df-9b76-4ac4-bea7-cd217f6d6caf",
   "metadata": {},
   "outputs": [
    {
     "name": "stdout",
     "output_type": "stream",
     "text": [
      "328 ns ± 4.87 ns per loop (mean ± std. dev. of 7 runs, 1,000,000 loops each)\n"
     ]
    }
   ],
   "source": [
    "%%timeit\n",
    "# Code 2\n",
    "for symbol in string:\n",
    "    # print(symbol, end = \"\")\n",
    "    var = string"
   ]
  },
  {
   "cell_type": "code",
   "execution_count": 135,
   "id": "d3df36ab-f41e-412e-b4b8-cec53691c576",
   "metadata": {},
   "outputs": [
    {
     "name": "stdout",
     "output_type": "stream",
     "text": [
      "2.43 µs ± 11.4 ns per loop (mean ± std. dev. of 7 runs, 100,000 loops each)\n"
     ]
    }
   ],
   "source": [
    "%%timeit\n",
    "# Code 3\n",
    "def complex_print(str):\n",
    "    # base case\n",
    "    if len(str) == 1:\n",
    "        var = string\n",
    "        # print(str[-1])\n",
    "    # recursive step\n",
    "    else:\n",
    "        # print(str[0], end = \"\")\n",
    "        var = string\n",
    "        complex_print(str[1:])\n",
    "    \n",
    "complex_print(string)  "
   ]
  },
  {
   "cell_type": "code",
   "execution_count": 136,
   "id": "d2b934f2-7a3e-4fde-91ff-6439f77822c7",
   "metadata": {},
   "outputs": [
    {
     "name": "stdout",
     "output_type": "stream",
     "text": [
      "2.43 µs ± 4.27 ns per loop (mean ± std. dev. of 7 runs, 100,000 loops each)\n"
     ]
    }
   ],
   "source": [
    "%%timeit\n",
    "# Code 4\n",
    "def complex_print_2(str):\n",
    "    \n",
    "    # base case\n",
    "    if len(str) == 1:\n",
    "        # print(str[0], end = \"\")\n",
    "        var = string\n",
    "        \n",
    "    # recursive step\n",
    "    else:\n",
    "        complex_print_2(str[:-1])\n",
    "        # print(str[-1], end = \"\")\n",
    "        var = string\n",
    "    \n",
    "complex_print_2(string)  "
   ]
  },
  {
   "cell_type": "code",
   "execution_count": 105,
   "id": "405603dd-7a13-40b3-aecb-3194da471b91",
   "metadata": {},
   "outputs": [
    {
     "name": "stdout",
     "output_type": "stream",
     "text": [
      "4.64 µs ± 71.8 ns per loop (mean ± std. dev. of 7 runs, 100,000 loops each)\n"
     ]
    }
   ],
   "source": [
    "%%timeit\n",
    "# Code 5\n",
    "def really_complex_print(str):\n",
    "    \n",
    "    # base case\n",
    "    if len(str) == 1:\n",
    "        # print(str[0], end = \"\")\n",
    "        var = string\n",
    "        \n",
    "    # recursive step\n",
    "    else:\n",
    "        l_ = len(str)\n",
    "        h = l_//2\n",
    "        really_complex_print(str[:h])\n",
    "        really_complex_print(str[h:]) \n",
    "        \n",
    "really_complex_print(string) "
   ]
  },
  {
   "cell_type": "markdown",
   "id": "f09dfe09-e6e7-4d00-8ce0-8566f3ef2b82",
   "metadata": {},
   "source": [
    "##### Now try replacing the string variable for a string of more length and see how the run time changes\n",
    "And check if you recognize any relationship between the different runtimes.\n",
    "Which one is mostly bigger and which one is mostly smaller?\n",
    "Smaller and bigger relationships are all you should be looking for!"
   ]
  },
  {
   "cell_type": "code",
   "execution_count": null,
   "id": "4402b2a9-a350-49e1-a89c-be91f2e0d93c",
   "metadata": {},
   "outputs": [],
   "source": [
    "# Here are some suggestions\n",
    "string = \"Hello World!\"\n",
    "# string = \"strange symbols §()%=(/\"*4\n",
    "len(string)"
   ]
  },
  {
   "cell_type": "markdown",
   "id": "96d03934-bc36-44e6-bb9a-77b73f2af046",
   "metadata": {},
   "source": [
    "## 1.0. The context or when do we talk about big O notation?"
   ]
  },
  {
   "cell_type": "markdown",
   "id": "f5866d6c-595c-4f1d-a38c-2c103fe5b8ce",
   "metadata": {},
   "source": [
    "\"How efficient is an algorithm or piece of code? Efficiency covers lots of resources,\n",
    "including:\n",
    "• CPU (time) usage\n",
    "• memory usage\n",
    "• disk usage\n",
    "• network usage\n",
    "\n",
    "All are important but we will mostly talk about time complexity (CPU usage).\n",
    "\n",
    "Be careful to differentiate between:\n",
    "1. Performance: how much time/memory/disk/... is actually used when a program is run. This depends on the machine, compiler, etc. as well as the code.\n",
    "\n",
    "2. Complexity: how do the resource requirements of a program or algorithm scale, i.e., what happens as the size of the problem being solved gets larger?\n",
    "\n",
    "Complexity affects performance but not the other way around.\"\n",
    "- lecture from ('https://web.mit.edu/16.070/www/lecture/big_o.pdf', retrieved on 2th of August 2023)"
   ]
  },
  {
   "cell_type": "markdown",
   "id": "f27384ba-52ca-4311-811c-ae85f9b8ba77",
   "metadata": {
    "tags": []
   },
   "source": [
    "## 1.1. What does the Big O notation represent? What not? And why is it called big O notation?"
   ]
  },
  {
   "cell_type": "markdown",
   "id": "ddeb7ba5-e460-4a7c-afa2-dad96b316c3a",
   "metadata": {},
   "source": [
    "### 1.1.1. What is the Big O notation? TIME COMPLEXITY\n",
    "\n",
    "Definitions from a problem oriented perspective:\n",
    "\n",
    "\"We are interested in the rate of growth over time with respect to the inputs taken during the programm execution\"\n",
    "- geeks for geeks ('https://www.geeksforgeeks.org/understanding-time-complexity-simple-examples/')\n",
    "\n",
    "\"When we are trying to find the complexity of the function/ procedure/ algorithm/\n",
    "program, we are not interested in the exact number of operations that are being\n",
    "performed. Instead, we are interested in the relation of the number of operations to the\n",
    "problem size.\"\n",
    "- lecture from ('https://web.mit.edu/16.070/www/lecture/big_o.pdf', retrieved on 2th of August 2023)\n",
    "\n",
    "Defining it from a ressource oriented perspective:\n",
    "\n",
    "\"Complexity: how do the resource requirements of a program or algorithm scale,\n",
    "i.e., what happens as the size of the problem being solved gets larger?\"\n",
    "- lecture from ('https://web.mit.edu/16.070/www/lecture/big_o.pdf', retrieved on 2th of August 2023)"
   ]
  },
  {
   "cell_type": "markdown",
   "id": "cf2742bc-1e12-486e-a52d-8237ff21050e",
   "metadata": {},
   "source": [
    "To check this on the  code above you will find a third trial.\n",
    "This time each code will have a counter to know, how often the code got executed.\n",
    "We're counting the time sit got executed."
   ]
  },
  {
   "cell_type": "markdown",
   "id": "23de321d-027b-4e7c-a8ab-c0a21e56617a",
   "metadata": {
    "jp-MarkdownHeadingCollapsed": true,
    "tags": []
   },
   "source": [
    "### Third trial"
   ]
  },
  {
   "cell_type": "code",
   "execution_count": 129,
   "id": "6ede31c5-07b0-41ba-adda-590fb2dbfef2",
   "metadata": {},
   "outputs": [],
   "source": [
    "c = 0 # this is our counter"
   ]
  },
  {
   "cell_type": "code",
   "execution_count": 108,
   "id": "52508601-4e99-440a-8946-2eeebf4eb5e0",
   "metadata": {},
   "outputs": [
    {
     "data": {
      "text/plain": [
       "12"
      ]
     },
     "execution_count": 108,
     "metadata": {},
     "output_type": "execute_result"
    }
   ],
   "source": [
    "string = \"Hello World!\"\n",
    "len(string)"
   ]
  },
  {
   "cell_type": "code",
   "execution_count": 130,
   "id": "d17920fc-da95-4adc-baa2-e9d1e71b25ac",
   "metadata": {},
   "outputs": [
    {
     "name": "stdout",
     "output_type": "stream",
     "text": [
      "Hello World!\n",
      "\n",
      "we counted 1\n"
     ]
    }
   ],
   "source": [
    "c = 0\n",
    "# Code 1\n",
    "print(string)\n",
    "c += 1\n",
    "print(\"\\n\" + \"we counted \" + str(c))"
   ]
  },
  {
   "cell_type": "code",
   "execution_count": 131,
   "id": "0724514a-ee0f-4bdc-8c40-25d0ac4fe05f",
   "metadata": {},
   "outputs": [
    {
     "name": "stdout",
     "output_type": "stream",
     "text": [
      "Hello World!\n",
      "we counted 12\n"
     ]
    }
   ],
   "source": [
    "c = 0\n",
    "# Code 2\n",
    "for symbol in string:\n",
    "    print(symbol, end = \"\")\n",
    "    c += 1\n",
    "print(\"\\n\" + \"we counted \" + str(c))"
   ]
  },
  {
   "cell_type": "code",
   "execution_count": 137,
   "id": "6a1f4f84-0786-4f96-b2f7-70b3ae1ca754",
   "metadata": {},
   "outputs": [
    {
     "name": "stdout",
     "output_type": "stream",
     "text": [
      "Hello World!\n",
      "\n",
      "we counted 12\n"
     ]
    }
   ],
   "source": [
    "c = 0\n",
    "# Code 3\n",
    "def complex_print(str):\n",
    "    global c\n",
    "    c += 1\n",
    "    # base case\n",
    "    if len(str) == 1:\n",
    "        print(str[-1])\n",
    "        \n",
    "    # recursive step\n",
    "    else:\n",
    "        print(str[0], end = \"\")\n",
    "        complex_print(str[1:])\n",
    "    \n",
    "complex_print(string)\n",
    "print(\"\\n\" + \"we counted \" + str(c))"
   ]
  },
  {
   "cell_type": "code",
   "execution_count": 133,
   "id": "69787f6d-06e5-47eb-938f-7fbd35a46f84",
   "metadata": {},
   "outputs": [
    {
     "name": "stdout",
     "output_type": "stream",
     "text": [
      "Hello World!\n",
      "we counted 12\n"
     ]
    }
   ],
   "source": [
    "c = 0\n",
    "# Code 4\n",
    "def complex_print_2(str):\n",
    "    global c\n",
    "    c += 1\n",
    "    \n",
    "    # base case\n",
    "    if len(str) == 1:\n",
    "        print(str[0], end = \"\")\n",
    "\n",
    "    # recursive step\n",
    "    else:\n",
    "        complex_print_2(str[:-1])\n",
    "        print(str[-1], end = \"\")\n",
    "        \n",
    "    \n",
    "complex_print_2(string)\n",
    "print(\"\\n\" + \"we counted \" + str(c))"
   ]
  },
  {
   "cell_type": "code",
   "execution_count": 126,
   "id": "cd47974d-a7d9-4d65-9f31-208ce8287270",
   "metadata": {},
   "outputs": [
    {
     "name": "stdout",
     "output_type": "stream",
     "text": [
      "Hello World!\n",
      "we counted 23\n"
     ]
    }
   ],
   "source": [
    "c = 0\n",
    "# Code 5\n",
    "def really_complex_print(str):\n",
    "    global c\n",
    "    c += 1\n",
    "    \n",
    "    # base case\n",
    "    if len(str) == 1:\n",
    "        print(str[0], end = \"\")\n",
    "        \n",
    "    # recursive step\n",
    "    else:\n",
    "        l_ = len(str)\n",
    "        h = l_//2\n",
    "        really_complex_print(str[:h])\n",
    "        really_complex_print(str[h:])\n",
    "    \n",
    "really_complex_print(string)\n",
    "print(\"\\n\" + \"we counted \" + str(c))"
   ]
  },
  {
   "cell_type": "markdown",
   "id": "ea598817-8e09-4b11-aeed-4bf757bf803a",
   "metadata": {
    "tags": []
   },
   "source": [
    "### 1.1.2. What is it not?\n",
    "\"The time complexity of an algorhtm/code is NOT equal to the actual time required to execute the  particular code, but  the  number of times a statement executes.\"\n",
    "\"This is due to execution time being dependant on the machine the code is running on and the network load if the machine is in LAN/WLAN.\"\n",
    "- geekgs for geeks ('https://www.geeksforgeeks.org/understanding-time-complexity-simple-examples/')"
   ]
  },
  {
   "cell_type": "markdown",
   "id": "1bb3d43d-81ef-4b3e-bde4-7e020aa62a88",
   "metadata": {
    "tags": []
   },
   "source": [
    "### 1.1.3. Why is it called Big O notation?\n"
   ]
  },
  {
   "cell_type": "markdown",
   "id": "8cdd3a3b-b00f-4fb5-b64f-ac5f7a98c705",
   "metadata": {
    "jp-MarkdownHeadingCollapsed": true,
    "tags": []
   },
   "source": [
    "# 2. Ranking of different types of code according to their time complexity"
   ]
  },
  {
   "cell_type": "markdown",
   "id": "608bb283-07d1-4a40-8276-5f62aace2560",
   "metadata": {},
   "source": [
    "Main ideas and how to write them down - Meaning of the  notation\n",
    "O(1) is constant, no matter how many elements are added the resulting operation will always be the same time.\n",
    "\n",
    "O(N) is linear, it increases operations as the number of elements increases in direct proportion.\n",
    "\n",
    "O(Log N) is logarithmic or half of linear time, it halves the number of operations required given the same elements as O(n).\n",
    "\n",
    "O(N²) shows the worst case scenario as operations increase steeply with the increase in number of elements, or quadratic time. "
   ]
  },
  {
   "cell_type": "markdown",
   "id": "848b0583-8c82-4d17-b230-15255c5d8243",
   "metadata": {
    "jp-MarkdownHeadingCollapsed": true,
    "tags": []
   },
   "source": [
    "## 2.1. Recursive Functions"
   ]
  },
  {
   "cell_type": "markdown",
   "id": "6dc0545e-f1c8-4100-93a2-9812131cc75e",
   "metadata": {
    "tags": []
   },
   "source": [
    "### O(n) or linear computational expenses\n",
    "--> for each new element to iterate over, we are looping one more time"
   ]
  },
  {
   "cell_type": "code",
   "execution_count": 4,
   "id": "c1a4c892-9b1a-4c5a-bd3f-53d9503fd759",
   "metadata": {},
   "outputs": [
    {
     "name": "stdout",
     "output_type": "stream",
     "text": [
      "Recursing with input: 7\n",
      "Recursing with input: 6\n",
      "Recursing with input: 5\n",
      "Recursing with input: 4\n",
      "Recursing with input: 3\n",
      "Recursing with input: 2\n",
      "28\n"
     ]
    }
   ],
   "source": [
    "def sum_to_one(n):\n",
    "    if n == 1:\n",
    "        return n\n",
    "    print(\"Recursing with input: {0}\".format(n))\n",
    "    return sum_to_one(n - 1) + n\n",
    "\n",
    "# uncomment when you're ready to test\n",
    "print(sum_to_one(7))"
   ]
  },
  {
   "cell_type": "code",
   "execution_count": 3,
   "id": "62cb9852-629c-49f5-aea3-7956caddc77e",
   "metadata": {},
   "outputs": [
    {
     "name": "stdout",
     "output_type": "stream",
     "text": [
      "120\n"
     ]
    }
   ],
   "source": [
    "def factorial(n):\n",
    "    if n == 1:\n",
    "        return n\n",
    "    return factorial(n - 1) * n\n",
    "\n",
    "print(factorial(5))"
   ]
  },
  {
   "cell_type": "markdown",
   "id": "624ba96e-0c08-4550-8de7-38ba66c36823",
   "metadata": {},
   "source": [
    "### O(n**2) or quadratic computational expenses\n",
    "--> for each new element to iterate over, we are looping over every element one more time"
   ]
  },
  {
   "cell_type": "code",
   "execution_count": 2,
   "id": "3f2ebcce-e7d1-4b91-b324-d3c41e7de9d2",
   "metadata": {},
   "outputs": [],
   "source": [
    "# to be completed"
   ]
  },
  {
   "cell_type": "markdown",
   "id": "80b36272-b7eb-41c4-8001-c08ea9e1b7f1",
   "metadata": {
    "tags": []
   },
   "source": [
    "### O(2**n) or \n",
    "--> for each new element to iterate over, we are looping"
   ]
  },
  {
   "cell_type": "code",
   "execution_count": 3,
   "id": "cfb68cc8-16e6-4663-a40a-4d0548721d02",
   "metadata": {},
   "outputs": [
    {
     "name": "stdout",
     "output_type": "stream",
     "text": [
      "15.2 µs ± 186 ns per loop (mean ± std. dev. of 7 runs, 100,000 loops each)\n"
     ]
    }
   ],
   "source": [
    "%%timeit\n",
    "def power_set(da_set):\n",
    "    power_set_size = 2 ** len(da_set)\n",
    "    result = []\n",
    "\n",
    "    for bit in range(0, power_set_size):\n",
    "        sub_set = []\n",
    "        for binary_digit in range(0, len(da_set)):\n",
    "            if ((bit & (1 << binary_digit)) > 0):\n",
    "                \n",
    "                sub_set.append(set([binary_digit]))\n",
    "        # print('this is thesubset ', sub_set)\n",
    "        result.append(sub_set)\n",
    "    return result\n",
    "\n",
    "# print(power_set({1,3,4,2}))\n",
    "power_set({1,3,4,2})"
   ]
  },
  {
   "cell_type": "code",
   "execution_count": 4,
   "id": "8ed59586-925b-4a21-b742-60228e1316e5",
   "metadata": {},
   "outputs": [
    {
     "name": "stdout",
     "output_type": "stream",
     "text": [
      "3.84 µs ± 156 ns per loop (mean ± std. dev. of 7 runs, 100,000 loops each)\n"
     ]
    }
   ],
   "source": [
    "%%timeit\n",
    "def power_set(my_list):\n",
    "    # base case: an empty list\n",
    "    if len(my_list) == 0:\n",
    "        return [[]]\n",
    "    # recursive step that gets called later: subsets without first element\n",
    "    power_set_without_first = power_set(my_list[1:]) # function call\n",
    "    \n",
    "    # subsets with first element\n",
    "    with_first = [ [my_list[0]] + rest for rest in power_set_without_first ]\n",
    "    \n",
    "    # return combination of the two\n",
    "    return with_first + power_set_without_first # call of recursive step\n",
    "\n",
    "# print(list(reversed(power_set([1,3,4,2])))) # reversed() mthod is to  better compare with the result above!\n",
    "list(reversed(power_set([1,3,4,2])))\n",
    "\n",
    "# universities = ['MIT', 'UCLA', 'Stanford', 'NYU']\n",
    "# power_set_of_universities = power_set (universities+ ['GSU'])#, 'UzK'])\n",
    "\n",
    "# for set in power_set_of_universities:\n",
    "#     print(set)"
   ]
  },
  {
   "cell_type": "code",
   "execution_count": 6,
   "id": "21d8b684-ff0f-4a5e-b0f5-c07a8e471910",
   "metadata": {},
   "outputs": [
    {
     "data": {
      "text/plain": [
       "[3, 4, 5]"
      ]
     },
     "execution_count": 6,
     "metadata": {},
     "output_type": "execute_result"
    }
   ],
   "source": [
    "list = [1,2,3,4,5]\n",
    "list[2:]"
   ]
  },
  {
   "cell_type": "markdown",
   "id": "90337078-5c47-4aca-9fb8-474df24e75e1",
   "metadata": {
    "jp-MarkdownHeadingCollapsed": true,
    "tags": []
   },
   "source": [
    "## 2.* Other examples yet to be sorted \n",
    "--> for each new element to iterate over, we are looping"
   ]
  },
  {
   "cell_type": "code",
   "execution_count": 13,
   "id": "70223948-ecb9-4220-a9b4-73932e5db595",
   "metadata": {},
   "outputs": [
    {
     "name": "stdout",
     "output_type": "stream",
     "text": [
      "4.43 µs ± 65.8 ns per loop (mean ± std. dev. of 7 runs, 100,000 loops each)\n"
     ]
    }
   ],
   "source": [
    "%%timeit\n",
    "def palindrome(my_string):\n",
    "    string_length = len(my_string)\n",
    "    middle_index = string_length // 2\n",
    "    for index in range(0, middle_index):\n",
    "        opposite_character_index = string_length - index - 1\n",
    "        if my_string[index] != my_string[opposite_character_index]:\n",
    "            return False  \n",
    "    return True\n",
    "\n",
    "palindrome(\"abba\")\n",
    "# True\n",
    "palindrome(\"abcba\")\n",
    "# True\n",
    "palindrome(\"\")\n",
    "# True\n",
    "palindrome(\"abcd\")\n",
    "# False"
   ]
  },
  {
   "cell_type": "code",
   "execution_count": 14,
   "id": "56f634b6-6f9e-4c17-9c03-9c0ee106c7be",
   "metadata": {},
   "outputs": [
    {
     "name": "stdout",
     "output_type": "stream",
     "text": [
      "3.8 µs ± 46.6 ns per loop (mean ± std. dev. of 7 runs, 100,000 loops each)\n"
     ]
    }
   ],
   "source": [
    "%%timeit\n",
    "def palindrome(my_string):\n",
    "    while len(my_string) > 1:\n",
    "        if my_string[0] != my_string[-1]:\n",
    "            return False\n",
    "        my_string = my_string[1:-1]\n",
    "    return True \n",
    "\n",
    "palindrome(\"abba\")\n",
    "# True\n",
    "palindrome(\"abcba\")\n",
    "# True\n",
    "palindrome(\"\")\n",
    "# True\n",
    "palindrome(\"abcd\")\n",
    "# False"
   ]
  },
  {
   "cell_type": "code",
   "execution_count": null,
   "id": "d42f8ace-3cce-414d-a35c-3203e3c3cfa1",
   "metadata": {},
   "outputs": [],
   "source": []
  }
 ],
 "metadata": {
  "kernelspec": {
   "display_name": "Python 3 (ipykernel)",
   "language": "python",
   "name": "python3"
  },
  "language_info": {
   "codemirror_mode": {
    "name": "ipython",
    "version": 3
   },
   "file_extension": ".py",
   "mimetype": "text/x-python",
   "name": "python",
   "nbconvert_exporter": "python",
   "pygments_lexer": "ipython3",
   "version": "3.9.15"
  }
 },
 "nbformat": 4,
 "nbformat_minor": 5
}
