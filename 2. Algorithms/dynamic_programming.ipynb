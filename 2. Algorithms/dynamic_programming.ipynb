{
 "cells": [
  {
   "cell_type": "code",
   "execution_count": null,
   "metadata": {},
   "outputs": [],
   "source": []
  },
  {
   "cell_type": "markdown",
   "metadata": {},
   "source": [
    "## 1. Recursion without memoization (a caching technique): Example of Fibonacci function"
   ]
  },
  {
   "cell_type": "code",
   "execution_count": 1,
   "metadata": {},
   "outputs": [
    {
     "name": "stdout",
     "output_type": "stream",
     "text": [
      "39088169\n"
     ]
    }
   ],
   "source": [
    "# fibonacci without cache\n",
    "def fibonacci(n):\n",
    "  if n <= 1:\n",
    "    return n\n",
    "  return fibonacci(n-1) + fibonacci(n-2)\n",
    "\n",
    "# print(fibonacci(33))\n",
    "# check different times from 33 up to 38\n",
    "print(fibonacci(38))"
   ]
  },
  {
   "cell_type": "markdown",
   "metadata": {},
   "source": [
    "## 2. Recursion with Memoization\n",
    "\n",
    "### 2.1 Memoizationwith a dictionary"
   ]
  },
  {
   "cell_type": "code",
   "execution_count": 2,
   "metadata": {},
   "outputs": [
    {
     "name": "stdout",
     "output_type": "stream",
     "text": [
      "43466557686937456435688527675040625802564660517371780402481729089536555417949051890403879840079255169295922593080322634775209689623239873322471161642996440906533187938298969649928516003704476137795166849228875\n"
     ]
    }
   ],
   "source": [
    "''' define fibonacciCall() as a nested function\n",
    "the fibonacciCache in the outer function is outside the scope of the recursive calls of the fibonacci function.\n",
    "\n",
    "the recursions happen within the scope of the inner functions is accessed by the function calls o \n",
    "'''\n",
    "\n",
    "def fibonacci_call(n):\n",
    "  fibonacci_Cache = {} # due to the size of the numbers float instead of int\n",
    "\n",
    "  def fibonacci(n):\n",
    "    if n <= 1:\n",
    "      return n\n",
    "\n",
    "    if n in fibonacci_Cache.keys():\n",
    "      return fibonacci_Cache[n]\n",
    "    \n",
    "    nth_fibonacci = fibonacci(n-1) + fibonacci(n-2)\n",
    "\n",
    "    fibonacci_Cache[n] = nth_fibonacci\n",
    "\n",
    "    return nth_fibonacci\n",
    "  \n",
    "  return fibonacci(n)\n",
    "\n",
    "print(fibonacci_call(1000))\n",
    "     "
   ]
  },
  {
   "cell_type": "code",
   "execution_count": 7,
   "metadata": {},
   "outputs": [
    {
     "name": "stdout",
     "output_type": "stream",
     "text": [
      "43466557686937456435688527675040625802564660517371780402481729089536555417949051890403879840079255169295922593080322634775209689623239873322471161642996440906533187938298969649928516003704476137795166849228875\n"
     ]
    }
   ],
   "source": [
    "''' define fibonacciCall() as a nested function\n",
    "the fibonacciCache in the outer function is outside the scope of the recursive calls of the fibonacci function.\n",
    "\n",
    "the recursions happen within the scope of the inner functions is accessed by the function calls o \n",
    "'''\n",
    "\n",
    "def fibonacci_call(n):\n",
    "  fibonacci_Cache = {} # due to the size of the numbers float instead of int\n",
    "\n",
    "  def fibonacci(n):\n",
    "    if n <= 1:\n",
    "      return n\n",
    "\n",
    "    if fibonacci_Cache.get(n):\n",
    "      return fibonacci_Cache.get(n)\n",
    "    \n",
    "    nth_fibonacci = fibonacci(n-1) + fibonacci(n-2)\n",
    "\n",
    "    fibonacci_Cache[n] = nth_fibonacci\n",
    "\n",
    "    return nth_fibonacci\n",
    "  \n",
    "  return fibonacci(n)\n",
    "\n",
    "print(fibonacci_call(1000))\n",
    "     "
   ]
  },
  {
   "cell_type": "markdown",
   "metadata": {},
   "source": [
    "### 2.2 Memoization with numpy array"
   ]
  },
  {
   "cell_type": "code",
   "execution_count": null,
   "metadata": {},
   "outputs": [
    {
     "name": "stdout",
     "output_type": "stream",
     "text": [
      "4.346655768693743e+208\n"
     ]
    }
   ],
   "source": [
    "''' define fibonacciCall() as a nested function\n",
    "the fibonacciCache in the outer function is outside the scope of the recursive calls of the fibonacci function.\n",
    "\n",
    "the recursions happen within the scope of the inner functions is accessed by the function calls o \n",
    "'''\n",
    "import numpy as np\n",
    "\n",
    "\n",
    "def fibonacci_call(n):\n",
    "  fibonacci_Cache = np.zeros((n+1),float) # due to the size of the numbers float instead of int\n",
    "\n",
    "  def fibonacci(n):\n",
    "    if n <= 1:\n",
    "      return n\n",
    "\n",
    "    if fibonacci_Cache[n] != 0.0:\n",
    "      return fibonacci_Cache[n]\n",
    "    \n",
    "    nth_fibonacci = fibonacci(n-1) + fibonacci(n-2)\n",
    "\n",
    "    fibonacci_Cache[n] = nth_fibonacci\n",
    "\n",
    "    return nth_fibonacci\n",
    "  \n",
    "  return fibonacci(n)\n",
    "\n",
    "print(fibonacci_call(1000))\n",
    "     "
   ]
  },
  {
   "cell_type": "markdown",
   "metadata": {},
   "source": [
    "### 2.3 mind the control flow"
   ]
  },
  {
   "cell_type": "code",
   "execution_count": 2,
   "metadata": {},
   "outputs": [],
   "source": [
    "# this is the wrong version making the kernel crash\n",
    "memo = {}\n",
    "\n",
    "def memo_fibonacci(number):\n",
    "  if number in memo:\n",
    "    ans = memo[number]\n",
    "  elif number == 0 or number == 1:\n",
    "    ans = number\n",
    "  # Add your code here:\n",
    "  # without an else keyword: the recursions woll alwys be executed\n",
    "  ans = memo_fibonacci(number - 1) + memo_fibonacci(number - 2)\n",
    "  memo[number] = ans\n",
    "    \n",
    "  return ans"
   ]
  },
  {
   "cell_type": "code",
   "execution_count": 1,
   "metadata": {},
   "outputs": [
    {
     "name": "stdout",
     "output_type": "stream",
     "text": [
      "6765\n",
      "354224848179261915075\n"
     ]
    }
   ],
   "source": [
    "# the else. statement is critical for this to work\n",
    "\n",
    "memo = {}\n",
    "\n",
    "def memo_fibonacci(number):\n",
    "  if number in memo:\n",
    "    ans = memo[number]\n",
    "  elif number == 0 or number == 1:\n",
    "    ans = number\n",
    "  # Add your code here:\n",
    "  else:\n",
    "    ans = memo_fibonacci(number - 1) + memo_fibonacci(number - 2)\n",
    "    memo[number] = ans\n",
    "    \n",
    "  return ans\n",
    "\n",
    "# Leave this so we can test your code:\n",
    "print(memo_fibonacci(20))\n",
    "print(memo_fibonacci(100))"
   ]
  },
  {
   "cell_type": "markdown",
   "metadata": {},
   "source": [
    "# 3. Problems to solve with dynamic processing: Memoization and (???)"
   ]
  },
  {
   "cell_type": "markdown",
   "metadata": {},
   "source": [
    "## 3.1 Knappsack problem\n",
    "This function that calculates the maximum value of a collection of items which can fit within a given weight limit."
   ]
  },
  {
   "cell_type": "markdown",
   "metadata": {},
   "source": [
    "Problem description (Codecademy):\n",
    "\"Imagine that you’re a thief breaking into a house. There are so many valuables to steal - diamonds, gold, jewelry, and more! But remember, you’re just one person who can only carry so much. Each item has a weight and value, and your goal is to maximize the total value of items while remaining within the weight limit of your knapsack. This is called the knapsack problem and is commonly used in programming interviews. We will solve this problem in two ways: recursively, and using dynamic programming.\""
   ]
  },
  {
   "cell_type": "markdown",
   "metadata": {},
   "source": [
    "EXAMPLE:\n",
    "Let’s say that you have a knapsack that can only carry 5 pounds, and the house you’re robbing has three items that you want to steal:\n",
    "\n",
    "A ring that weighs 1 pound with a value of $250\n",
    "Earrings that weigh 3 pounds with a value of $300\n",
    "A necklace that weighs 5 pounds with a value of $500\n",
    "This information can be summarized as follows:\n",
    "\n",
    "weight_cap = 5 \n",
    "weights = [1, 3, 5]\n",
    "values = [250, 300, 500]\n",
    "You have four possible ways to fill your knapsack:\n",
    "\n",
    "1. Take only the ring, giving you $250\n",
    "2. Take only the earrings, giving you $300\n",
    "3. Take only the necklace, giving you $500\n",
    "4. Take the ring and the earrings, giving you $550"
   ]
  },
  {
   "cell_type": "code",
   "execution_count": 5,
   "metadata": {},
   "outputs": [],
   "source": [
    "def knapsack(loot, weight_limit):\n",
    "dd  # grid inlcudes the highest weight_limit and len(loot) as last element,\n",
    "  # beause of that we have a +1 in the range() function\n",
    "  grid = [[0 for col in range(weight_limit + 1)] for row in range(len(loot) + 1)]\n",
    "  # grid is a sparese matrix relating items of the loop with a weight\n",
    "  for row, item in enumerate(loot):\n",
    "    row = row + 1 # row count starts at 1\n",
    "    for col in range(weight_limit + 1):\n",
    "      weight_capacity = col\n",
    "      if item.weight <= weight_capacity:\n",
    "        item_value = item.value        \n",
    "        item_weight = item.weight\n",
    "\n",
    "        # checkout \n",
    "        previous_best_less_item_weight = grid[row - 1][weight_capacity - item_weight]\n",
    "        \n",
    "        capacity_value_with_item = item_value + previous_best_less_item_weight\n",
    "\n",
    "        capacity_value_without_item = grid[row - 1][col]\n",
    "        grid[row][col] = max(capacity_value_with_item, capacity_value_without_item)\n",
    "      else:\n",
    "        grid[row][col] = grid[row - 1][col]\n",
    "   \n",
    "  return grid[-1][-1]"
   ]
  },
  {
   "cell_type": "markdown",
   "metadata": {},
   "source": [
    "### 3.1.1 The recursive solution"
   ]
  },
  {
   "cell_type": "markdown",
   "metadata": {},
   "source": [
    "The Recursive Solution\n",
    "The brute force solution to this problem is to look at every subset of the items that has a total weight less than weight_cap. Then you simply take the maximum of those subsets, giving you the optimized subset with the highest value possible.\n",
    "\n",
    "You will need an additional parameter, i, that tells us where we are in the list of items. With each step, we will break the problem down into subproblems, and compare them to find the maximum value. There are three possibilities for every call of the function:\n",
    "\n",
    "1. weight_cap or i are zero, meaning the knapsack can hold no weight, or there are no more items to look at. In either case, we return 0.\n",
    "\n",
    "2. The weight of the item we’re looking at exceeds weight_cap, in which case we just move on, calling the function on the next item.\n",
    "\n",
    "3. If neither of the above are true, that means we have to consider whether or not the item we are at (i) should be included in the optimal solution.\n"
   ]
  },
  {
   "cell_type": "code",
   "execution_count": 17,
   "metadata": {},
   "outputs": [
    {
     "name": "stdout",
     "output_type": "stream",
     "text": [
      "107\n"
     ]
    }
   ],
   "source": [
    "# recursive solution with a runtime of O(2^N) supposedly\n",
    "\n",
    "## this function goes backward\n",
    "def recursive_knapsack(weight_cap, weights, values, i):\n",
    "  if weight_cap == 0 or i == 0:\n",
    "    return 0\n",
    "  elif weights[i - 1] > weight_cap:\n",
    "    return recursive_knapsack(weight_cap, weights, values, i - 1)\n",
    "  else:\n",
    "    include_item = values[i - 1] + recursive_knapsack(weight_cap - weights[i - 1], weights, values, i - 1)\n",
    "\n",
    "    exclude_item = recursive_knapsack(weight_cap, weights, values, i - 1)\n",
    "\n",
    "    return max(include_item, exclude_item)\n",
    "  \n",
    "\n",
    "# Use this to test your function:\n",
    "weight_cap = 50\n",
    "weights = [31, 10, 20, 19, 4, 3, 6]\n",
    "values = [70, 20, 39, 37, 7, 5, 10]\n",
    "print(recursive_knapsack(weight_cap, weights, values,len(weights)))\n"
   ]
  },
  {
   "cell_type": "markdown",
   "metadata": {},
   "source": [
    "### 3.1.2 The extended dynamic approach\n",
    "Memoization allows to store information to prevent the necessity of redundant calls for the same results."
   ]
  },
  {
   "cell_type": "markdown",
   "metadata": {},
   "source": [
    "Strategy:\n",
    "\n",
    "Store informaiton in 2D-Array (matrix):\n",
    "Each row represets an item we get to see, at row 4 we have seen three items and are considerng adding the 4th one.\n",
    "Each column represents a weight limit for the knapysack, at column 7 we have the subproblem of a knapsack of weight capacity 7. (weight_cap +1 columns).\n",
    "\n",
    "Each field displays the maximum value achievable with the given weightlimit and observed number of items.\n",
    "\n",
    "Filling the matrix:\n",
    "At row 0 (number of items to consider) knapsack is emtpy, likewise at col 0 (weight_cap) no value is filled in.\n",
    "\n"
   ]
  },
  {
   "cell_type": "code",
   "execution_count": 18,
   "metadata": {},
   "outputs": [
    {
     "name": "stdout",
     "output_type": "stream",
     "text": [
      "107\n"
     ]
    }
   ],
   "source": [
    "# runtime: supposedly O(N * weight_cap) with N the number of elements\n",
    "\n",
    "## this function goes forward\n",
    "def dynamic_knapsack(weight_cap, weights, values):\n",
    "  rows = len(weights) + 1\n",
    "  cols = weight_cap + 1\n",
    "  # Set up 2D array\n",
    "  matrix = [ [] for x in range(rows) ]\n",
    "#   print(matrix)\n",
    "\n",
    "  # Iterate through every row\n",
    "  for index in range(rows):\n",
    "    # Initialize columns for this row\n",
    "    matrix[index] = [ -1 for y in range(cols) ]\n",
    "\n",
    "    # Iterate through every column\n",
    "    for weight in range(cols):\n",
    "\n",
    "      if index == 0 or weight == 0:\n",
    "        matrix[index][weight] = 0\n",
    "      # If weight at previous row is less than or equal to current weight  \n",
    "      elif weights[index-1] <= weight:\n",
    "        # Calculate item to include\n",
    "        value_including = values[index-1] + matrix[index-1][weight - weights[index-1]] \n",
    "        # note: matrix_value from 'remainder weight capacity' [weight - weights[index-1]] is retrieved\n",
    "\n",
    "        # Calculate item to exclude\n",
    "        value_excluding = matrix[index-1][weight] \n",
    "\n",
    "        # Calculate the value of current cell\n",
    "        matrix[index][weight] = max(value_including, value_excluding)\n",
    "      else:\n",
    "        # Calculate the value of current cell\n",
    "        matrix[index][weight] = matrix[index-1][weight -1] \n",
    "\n",
    "\n",
    "  # Return the value of the bottom right of matrix\n",
    "  return matrix[rows-1][weight_cap]\n",
    "\n",
    "# Use this to test your function:\n",
    "weight_cap = 50\n",
    "weights = [31, 10, 20, 19, 4, 3, 6]\n",
    "values = [70, 20, 39, 37, 7, 5, 10]\n",
    "print(dynamic_knapsack(weight_cap, weights, values))"
   ]
  },
  {
   "cell_type": "markdown",
   "metadata": {},
   "source": [
    "## 3.2 Find the longest common subsequence of two strings"
   ]
  },
  {
   "cell_type": "markdown",
   "metadata": {},
   "source": [
    "### 3.2.1 Solution using recursion/Iteration ??"
   ]
  },
  {
   "cell_type": "code",
   "execution_count": 27,
   "metadata": {},
   "outputs": [
    {
     "name": "stdout",
     "output_type": "stream",
     "text": [
      "3\n",
      "4\n"
     ]
    }
   ],
   "source": [
    "def longest_common_subsequence(X, Y, m , n):\n",
    "\n",
    "    if m == 0 or n == 0:\n",
    "        return 0\n",
    "    elif X[m-1] == Y[n-1]:\n",
    "        return 1 + longest_common_subsequence(X, Y, m-1, n-1)\n",
    "    else:\n",
    "        return max(longest_common_subsequence(X, Y, m, n-1), longest_common_subsequence(X, Y, m-1, n))\n",
    "    \n",
    "\n",
    "print(longest_common_subsequence(dna_1, dna_2, len(dna_1), len(dna_2)))\n",
    "\n",
    "print(longest_common_subsequence(\"Pinatas pinatas\", \"Dulces por Halloween\", len(\"Pinatas pinatas\"),len(\"Dulces por Halloween\")))"
   ]
  },
  {
   "cell_type": "markdown",
   "metadata": {},
   "source": [
    "#### 3.2.2 Solution using a grid for Memoization"
   ]
  },
  {
   "cell_type": "code",
   "execution_count": 28,
   "metadata": {},
   "outputs": [
    {
     "name": "stdout",
     "output_type": "stream",
     "text": [
      "Finding longest common subsequence of ACCGTT and CCAGCA\n",
      "(3, 'CCG')\n",
      "Finding longest common subsequence of Pinatas pinatas and Dulces por Halloween\n",
      "(4, 's pn')\n"
     ]
    }
   ],
   "source": [
    "dna_1 = \"ACCGTT\"\n",
    "dna_2 = \"CCAGCA\"\n",
    "\n",
    "#  runtime of neted loops is O(N*M)\n",
    "\n",
    "\n",
    "def longest_common_subsequence(string_1, string_2):\n",
    "  print(\"Finding longest common subsequence of {0} and {1}\".format(string_1, string_2))\n",
    "\n",
    "  grid = [[0 for col in range(len(string_1) + 1)] for row in range(len(string_2) + 1)]\n",
    "  \n",
    "  # for loop iterating through second string (rows iteration) \n",
    "  for row in range(1, len(string_2) + 1):\n",
    "    # pointer -1 to meet string index\n",
    "    # print(\"Comparing: {0}\".format(string_2[row - 1]))\n",
    "\n",
    "    # for loop iterating through first string (col iteration)\n",
    "    for col in range(1, len(string_1) + 1): # from [1,len(string_1)]\n",
    "          # pointer -1 to meet string index\n",
    "      # print(\"Against: {0}\".format(string_1[col - 1]))\n",
    "    \n",
    "      if string_1[col - 1] == string_2[row - 1]:\n",
    "        # (row-1, col-1) are indexes for matrix entries (row, col)\n",
    "        # grid[row][col - 1] ist out, because this value is vor the same letter of string_2 being compared with a prior letter of string_1\n",
    "        # grid[row - 1][col] is out, even though it is the prior letter of string_2 it is the actual letter of string_1 \n",
    "        previous_matches = grid[row - 1][col - 1]\n",
    "        \n",
    "        grid[row][col] = 1 + previous_matches\n",
    "\n",
    "      else:\n",
    "        grid[row][col] = max(grid[row-1][col], grid[row][col-1])\n",
    "  \n",
    "  # checkout the grid matrix\n",
    "  # for row_line in grid:\n",
    "  #   # print(row_line)\n",
    "\n",
    "  # getting the subsequence\n",
    "  result = []\n",
    "  while row >0 and col > 0:\n",
    "    if string_1[col - 1] == string_2[row - 1]:\n",
    "      result.insert(0,(string_1[col - 1]))\n",
    "      row -= 1\n",
    "      col -= 1\n",
    "    elif grid[row - 1][col] > grid[row][col - 1]:\n",
    "      row -= 1\n",
    "    else:\n",
    "      col -= 1\n",
    "  return grid[-1][-1], \"\".join(result)\n",
    "\n",
    "\n",
    "print(longest_common_subsequence(dna_1, dna_2))\n",
    "\n",
    "print(longest_common_subsequence(\"Pinatas pinatas\", \"Dulces por Halloween\"))"
   ]
  },
  {
   "cell_type": "markdown",
   "metadata": {},
   "source": [
    "# 4. Use cases"
   ]
  },
  {
   "cell_type": "markdown",
   "metadata": {},
   "source": [
    "### 4.1 Levenstein Distance"
   ]
  },
  {
   "cell_type": "markdown",
   "metadata": {},
   "source": []
  }
 ],
 "metadata": {
  "kernelspec": {
   "display_name": "base",
   "language": "python",
   "name": "python3"
  },
  "language_info": {
   "codemirror_mode": {
    "name": "ipython",
    "version": 3
   },
   "file_extension": ".py",
   "mimetype": "text/x-python",
   "name": "python",
   "nbconvert_exporter": "python",
   "pygments_lexer": "ipython3",
   "version": "3.9.15"
  }
 },
 "nbformat": 4,
 "nbformat_minor": 2
}
